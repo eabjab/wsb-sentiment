{
 "cells": [
  {
   "cell_type": "markdown",
   "source": [
    "### ISA 414 Final Project - Stock Predictions through Unsupervised Sentiment Analysis\n",
    "##### Ethan Buege, Jorge Nadjar, Mac Magyaros"
   ],
   "metadata": {
    "collapsed": false
   }
  },
  {
   "cell_type": "code",
   "execution_count": 2,
   "metadata": {},
   "outputs": [],
   "source": [
    "from polygon import StocksClient\n",
    "from datetime import date, timedelta, datetime\n",
    "import csv\n",
    "\n",
    "def get_price_data(api, start_date, end_date, file_name, ticker):\n",
    "    client = StocksClient(api)\n",
    "\n",
    "    file = file_name\n",
    "\n",
    "    with open(file, mode='w', newline='') as csv_file:\n",
    "\n",
    "        field_names = ['from', 'open', 'high', 'low', 'close', 'volume', 'afterHours', 'preMarket']\n",
    "\n",
    "        writer = csv.DictWriter(csv_file, fieldnames=field_names)\n",
    "        writer.writeheader()\n",
    "\n",
    "        for dt in range(int((end_date - start_date).days)):\n",
    "            curr_date = (start_date + timedelta(dt)).strftime(\"%Y-%m-%d\")\n",
    "            curr_price = client.get_daily_open_close(symbol=ticker, date=curr_date)\n",
    "            if (curr_price['status'] == 'OK'):\n",
    "                writer.writerow({\n",
    "                    'from': curr_price['from'],\n",
    "                    'open': curr_price['open'],\n",
    "                    'high': curr_price['high'],\n",
    "                    'low': curr_price['low'],\n",
    "                    'close': curr_price['close'],\n",
    "                    'volume': curr_price['volume'],\n",
    "                    'afterHours': curr_price['afterHours'],\n",
    "                    'preMarket': curr_price['preMarket'],\n",
    "                })"
   ]
  },
  {
   "cell_type": "code",
   "execution_count": 3,
   "metadata": {},
   "outputs": [
    {
     "name": "stdout",
     "output_type": "stream",
     "text": [
      "Got GME price data\n",
      "Got AMC price data\n",
      "Got TSLA price data\n",
      "Got AAPL price data\n",
      "Got AMZN price data\n",
      "Got AMD price data\n",
      "Got NVDA price data\n",
      "Got MSFT price data\n",
      "Got SPY price data\n",
      "Got QQQ price data\n"
     ]
    }
   ],
   "source": [
    "# get_x_years_price_data(\"SopTG_SdNVunXukEyQXFzL1ZQORWvGpD\", date(2017,4,24), date(2022,4,18), 'TSLA_prices.csv', 'TSLA')\n",
    "\n",
    "top_10_tickers = ['GME', 'AMC', 'TSLA', 'AAPL', 'AMZN', 'AMD', 'NVDA', 'MSFT', 'SPY', 'QQQ']\n",
    "\n",
    "for ticker in top_10_tickers:\n",
    "    get_price_data(\"SopTG_SdNVunXukEyQXFzL1ZQORWvGpD\", date(2017,4,24), date(2022,4,24), f'{ticker}_prices.csv', ticker)\n",
    "    print(f'Got {ticker} price data')"
   ]
  },
  {
   "cell_type": "code",
   "execution_count": 5,
   "metadata": {},
   "outputs": [
    {
     "data": {
      "text/plain": "            from      open      high       low     close    volume  \\\n0     2017-04-24    61.844    62.110   61.2043    61.606  25417525   \n1     2017-04-25    61.600    62.796   61.1720    62.758  33688540   \n2     2017-04-26    62.474    62.900   61.8000    62.034  23475220   \n3     2017-04-27    62.338    62.618   61.5000    61.726  17342845   \n4     2017-04-28    61.966    62.960   61.6000    62.814  22527390   \n...          ...       ...       ...       ...       ...       ...   \n1255  2022-04-18   989.030  1014.920  973.4100  1004.290  17237387   \n1256  2022-04-19  1005.060  1034.940  995.3250  1028.150  16604744   \n1257  2022-04-20  1030.000  1034.000  975.2501   977.200  23534922   \n1258  2022-04-21  1074.730  1092.220  996.4150  1008.780  35136565   \n1259  2022-04-22  1014.910  1034.850  994.0001  1005.050  23226886   \n\n      afterHours  preMarket  \n0        61.5460     62.000  \n1        62.7500     61.700  \n2        62.0020     62.628  \n3        61.8200     61.980  \n4        62.9200     61.958  \n...          ...        ...  \n1255   1013.0200    987.250  \n1256   1018.0000   1008.180  \n1257   1031.1800   1015.240  \n1258   1011.3999   1031.610  \n1259   1000.3000   1011.400  \n\n[1260 rows x 8 columns]",
      "text/html": "<div>\n<style scoped>\n    .dataframe tbody tr th:only-of-type {\n        vertical-align: middle;\n    }\n\n    .dataframe tbody tr th {\n        vertical-align: top;\n    }\n\n    .dataframe thead th {\n        text-align: right;\n    }\n</style>\n<table border=\"1\" class=\"dataframe\">\n  <thead>\n    <tr style=\"text-align: right;\">\n      <th></th>\n      <th>from</th>\n      <th>open</th>\n      <th>high</th>\n      <th>low</th>\n      <th>close</th>\n      <th>volume</th>\n      <th>afterHours</th>\n      <th>preMarket</th>\n    </tr>\n  </thead>\n  <tbody>\n    <tr>\n      <th>0</th>\n      <td>2017-04-24</td>\n      <td>61.844</td>\n      <td>62.110</td>\n      <td>61.2043</td>\n      <td>61.606</td>\n      <td>25417525</td>\n      <td>61.5460</td>\n      <td>62.000</td>\n    </tr>\n    <tr>\n      <th>1</th>\n      <td>2017-04-25</td>\n      <td>61.600</td>\n      <td>62.796</td>\n      <td>61.1720</td>\n      <td>62.758</td>\n      <td>33688540</td>\n      <td>62.7500</td>\n      <td>61.700</td>\n    </tr>\n    <tr>\n      <th>2</th>\n      <td>2017-04-26</td>\n      <td>62.474</td>\n      <td>62.900</td>\n      <td>61.8000</td>\n      <td>62.034</td>\n      <td>23475220</td>\n      <td>62.0020</td>\n      <td>62.628</td>\n    </tr>\n    <tr>\n      <th>3</th>\n      <td>2017-04-27</td>\n      <td>62.338</td>\n      <td>62.618</td>\n      <td>61.5000</td>\n      <td>61.726</td>\n      <td>17342845</td>\n      <td>61.8200</td>\n      <td>61.980</td>\n    </tr>\n    <tr>\n      <th>4</th>\n      <td>2017-04-28</td>\n      <td>61.966</td>\n      <td>62.960</td>\n      <td>61.6000</td>\n      <td>62.814</td>\n      <td>22527390</td>\n      <td>62.9200</td>\n      <td>61.958</td>\n    </tr>\n    <tr>\n      <th>...</th>\n      <td>...</td>\n      <td>...</td>\n      <td>...</td>\n      <td>...</td>\n      <td>...</td>\n      <td>...</td>\n      <td>...</td>\n      <td>...</td>\n    </tr>\n    <tr>\n      <th>1255</th>\n      <td>2022-04-18</td>\n      <td>989.030</td>\n      <td>1014.920</td>\n      <td>973.4100</td>\n      <td>1004.290</td>\n      <td>17237387</td>\n      <td>1013.0200</td>\n      <td>987.250</td>\n    </tr>\n    <tr>\n      <th>1256</th>\n      <td>2022-04-19</td>\n      <td>1005.060</td>\n      <td>1034.940</td>\n      <td>995.3250</td>\n      <td>1028.150</td>\n      <td>16604744</td>\n      <td>1018.0000</td>\n      <td>1008.180</td>\n    </tr>\n    <tr>\n      <th>1257</th>\n      <td>2022-04-20</td>\n      <td>1030.000</td>\n      <td>1034.000</td>\n      <td>975.2501</td>\n      <td>977.200</td>\n      <td>23534922</td>\n      <td>1031.1800</td>\n      <td>1015.240</td>\n    </tr>\n    <tr>\n      <th>1258</th>\n      <td>2022-04-21</td>\n      <td>1074.730</td>\n      <td>1092.220</td>\n      <td>996.4150</td>\n      <td>1008.780</td>\n      <td>35136565</td>\n      <td>1011.3999</td>\n      <td>1031.610</td>\n    </tr>\n    <tr>\n      <th>1259</th>\n      <td>2022-04-22</td>\n      <td>1014.910</td>\n      <td>1034.850</td>\n      <td>994.0001</td>\n      <td>1005.050</td>\n      <td>23226886</td>\n      <td>1000.3000</td>\n      <td>1011.400</td>\n    </tr>\n  </tbody>\n</table>\n<p>1260 rows × 8 columns</p>\n</div>"
     },
     "execution_count": 5,
     "metadata": {},
     "output_type": "execute_result"
    }
   ],
   "source": [
    "import pandas as pd\n",
    "\n",
    "tesla_prices = pd.read_csv('TSLA_prices.csv')\n",
    "\n",
    "tesla_prices"
   ]
  }
 ],
 "metadata": {
  "interpreter": {
   "hash": "e2a7c3d20469dda411fd3211f02092a920078d1ca97c72d3dc7928b841d3a44a"
  },
  "kernelspec": {
   "display_name": "Python 3.9.7 ('base')",
   "language": "python",
   "name": "python3"
  },
  "language_info": {
   "codemirror_mode": {
    "name": "ipython",
    "version": 3
   },
   "file_extension": ".py",
   "mimetype": "text/x-python",
   "name": "python",
   "nbconvert_exporter": "python",
   "pygments_lexer": "ipython3",
   "version": "3.9.12"
  },
  "orig_nbformat": 4
 },
 "nbformat": 4,
 "nbformat_minor": 2
}