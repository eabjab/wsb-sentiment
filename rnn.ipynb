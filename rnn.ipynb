{
 "cells": [
  {
   "cell_type": "markdown",
   "metadata": {
    "collapsed": true,
    "pycharm": {
     "name": "#%% md\n"
    }
   },
   "source": [
    "ISA 414 Final Project <br> LSTM RNN"
   ]
  },
  {
   "cell_type": "code",
   "execution_count": 45,
   "outputs": [],
   "source": [
    "# standard python libraries\n",
    "import requests\n",
    "from requests import auth\n",
    "import time\n",
    "from time import sleep\n",
    "import datetime as dt\n",
    "from datetime import timezone\n",
    "import collections\n",
    "import random\n",
    "import logging\n",
    "\n",
    "# data handling\n",
    "import pandas as pd\n",
    "import numpy as np\n",
    "import re\n",
    "import pickle\n",
    "import pymongo\n",
    "\n",
    "# reddit API stuff\n",
    "import praw\n",
    "from psaw import PushshiftAPI\n",
    "from praw.models import MoreComments\n",
    "\n",
    "# stuff for doc2vec encoding\n",
    "import gensim\n",
    "from sklearn.model_selection import train_test_split\n",
    "from sklearn.preprocessing import MinMaxScaler\n",
    "\n",
    "# pytorch\n",
    "import torch\n",
    "import torch.nn as nn\n",
    "import torch.nn.functional as F\n",
    "import torch.optim as optim\n",
    "import torchtext as tt\n",
    "\n",
    "# visualization\n",
    "import matplotlib.pyplot as plt\n",
    "\n",
    "logging.basicConfig(format='%(asctime)s : %(levelname)s : %(message)s', level=logging.INFO)"
   ],
   "metadata": {
    "collapsed": false,
    "pycharm": {
     "name": "#%%\n"
    }
   }
  },
  {
   "cell_type": "code",
   "execution_count": 67,
   "outputs": [],
   "source": [
    "doc2vec_model = pickle.load(open('doc2vec_model.p', \"rb\"))\n",
    "tsla_prices = pd.read_csv('TSLA_prices.csv')"
   ],
   "metadata": {
    "collapsed": false,
    "pycharm": {
     "name": "#%%\n"
    }
   }
  },
  {
   "cell_type": "code",
   "execution_count": 78,
   "outputs": [
    {
     "name": "stdout",
     "output_type": "stream",
     "text": [
      "aggregated and vectorized GME posts saved to disk\n",
      "aggregated and vectorized AMC posts saved to disk\n",
      "aggregated and vectorized TSLA posts saved to disk\n",
      "aggregated and vectorized AAPL posts saved to disk\n",
      "aggregated and vectorized AMZN posts saved to disk\n",
      "aggregated and vectorized AMD posts saved to disk\n",
      "aggregated and vectorized NVDA posts saved to disk\n",
      "aggregated and vectorized MSFT posts saved to disk\n",
      "aggregated and vectorized SPY posts saved to disk\n",
      "aggregated and vectorized QQQ posts saved to disk\n"
     ]
    }
   ],
   "source": [
    "top_10_tickers = ['GME', 'AMC', 'TSLA', 'AAPL', 'AMZN', 'AMD', 'NVDA', 'MSFT', 'SPY', 'QQQ']\n",
    "\n",
    "def aggregate_posts_by_day(ticker):\n",
    "    aggregated_daily_posts = {}\n",
    "    posts = pickle.load(open(f'E:/reddit_data/{ticker}_series.p', \"rb\"))\n",
    "    # replace UTC timestamp with date for easy aggregation\n",
    "    for post in posts:\n",
    "        day = dt.datetime.utcfromtimestamp(post.created_utc).date()\n",
    "        if day not in aggregated_daily_posts:\n",
    "            aggregated_daily_posts[day] = ''\n",
    "\n",
    "        # aggregate titles\n",
    "        if 'deleted by user' not in post.title and len(post.title) > 5:\n",
    "            aggregated_daily_posts[day] = ' '.join([aggregated_daily_posts[day], post.title])\n",
    "\n",
    "            # add bodytext if it exists and has not been deleted\n",
    "            # WSB has minimum length requirements so the only posts less than 20 chars have been deleted\n",
    "            if len(post.selftext) > 20:\n",
    "                aggregated_daily_posts[day] = ' '.join([aggregated_daily_posts[day], post.selftext])\n",
    "\n",
    "    return aggregated_daily_posts\n",
    "\n",
    "# daily_posts = aggregate_posts_by_day('TSLA')\n",
    "\n",
    "\n",
    "for ticker in top_10_tickers:\n",
    "    daily_posts = aggregate_posts_by_day(ticker)\n",
    "    for day in daily_posts:\n",
    "        tokens = gensim.utils.simple_preprocess(daily_posts[day])\n",
    "        daily_posts[day] = doc2vec_model.infer_vector(tokens)\n",
    "\n",
    "    print(f'aggregated and vectorized {ticker} posts saved to disk')\n",
    "    pickle.dump(daily_posts, open(f'E:/reddit_data/{ticker}_vectorized_posts.p', \"wb\"))"
   ],
   "metadata": {
    "collapsed": false,
    "pycharm": {
     "name": "#%%\n"
    }
   }
  },
  {
   "cell_type": "code",
   "execution_count": 79,
   "outputs": [
    {
     "name": "stdout",
     "output_type": "stream",
     "text": [
      "730\n",
      "1515\n",
      "[-0.78249055 -0.91808987 -1.2305562  -0.6003289  -0.6434765  -0.5734504\n",
      "  0.40601748 -1.5848631   0.57597065 -1.3293396  -1.60358    -0.90319526\n",
      " -1.151111    0.37671292 -0.86609906 -1.4747277   1.1223696   0.38532704\n",
      " -0.0631578   1.355625    0.39119226  0.34459347 -0.15421693  0.919626\n",
      "  1.2207289  -3.094248    0.8617928  -0.35053244  1.386309   -0.38543\n",
      " -0.32323378 -3.3900921   1.721332    2.2317657   0.3809002   0.35792002\n",
      " -0.3596503   0.44516537 -0.72681326 -1.5162218   0.9055075   0.4924716\n",
      "  0.23497832 -0.52506185  0.32712236  0.07597475 -0.55308884  0.99237347\n",
      " -1.011565    0.16815643  1.2281166  -3.4403877   0.7590321  -1.0291532\n",
      " -1.0353608  -0.980279    0.02529691  0.37387854  0.3057922   2.84832\n",
      "  0.9394496  -1.4974855  -0.69176465  1.8325452   0.74691904  2.160931\n",
      " -0.7107426  -1.3197367   0.59588444 -1.7478848   1.091819    0.71976274\n",
      " -0.2541003  -0.62312716  1.121135   -1.8113586  -0.43694642  0.25653055\n",
      "  1.1152574  -0.01361809 -1.0697266   1.8942271  -0.80492324 -0.13580224\n",
      "  3.0928264  -0.9244532  -1.4527651   1.1937164   1.2752863  -1.9897271\n",
      "  0.46201104 -0.36368194 -0.7002372   0.3205687   0.28906372 -0.19092828\n",
      "  1.2699482   1.1277469   1.9221241  -0.6398287   0.01872976 -0.29670653\n",
      " -1.6305499  -0.8455085   0.16831905 -2.966823    1.9463578   1.3008503\n",
      " -1.1286969  -2.7843263   0.98668873 -0.00933842  0.6815136  -0.9893643\n",
      " -2.887795    1.9772995   0.16011286 -0.089444   -1.0238687  -2.361609\n",
      "  0.96152467 -0.108325    0.10254937  0.09597601  0.4696154   0.08899283\n",
      "  1.3908634  -0.30251673  1.2616576   0.98868793 -0.80234504 -0.65137666\n",
      "  0.35433233 -1.5053209   0.82449734  1.2124058   0.5766543  -1.4753677\n",
      "  0.68065023  1.4713159  -0.6964503   0.09813847 -2.5766604  -0.70635676\n",
      "  1.0349247   0.45392948 -1.1376022  -1.7083588  -0.18933654 -0.9352988\n",
      " -1.0148206   0.19011134  1.9511901  -0.626664   -0.8060725  -0.30467108\n",
      "  0.07167269 -2.2404637   0.19183101 -1.347796    1.2060049  -3.5623102\n",
      " -1.208279   -1.1787747  -0.83589435  0.12366949 -1.5416312   0.21928428\n",
      " -0.3191465   0.24878156  0.19085304 -0.33508122 -1.0519078  -0.08032869\n",
      "  2.1976337   1.1192844   0.6420795   0.23275313 -1.8297443  -2.8002925\n",
      "  1.0718125   0.7820014   1.8304167  -1.8764485   2.2492201   1.4662565\n",
      "  2.1729057   0.09559099  1.5119102   0.20780891 -2.04704     1.7297509\n",
      "  1.7366941   0.5497004  -0.17802338 -0.34586918 -1.2496984  -2.2762518\n",
      "  1.1407542   0.7678522  -1.0456549  -1.2835786  -2.2610438   2.3026075\n",
      " -2.2624538  -0.8504689  -1.2266601  -0.88119197  0.80632097  3.1116214\n",
      " -1.4902285  -1.1705682   1.9508946   0.476138   -2.388634    1.2864228\n",
      " -1.0700068  -0.8989856  -0.22164696 -1.8230917   0.8308142  -2.9708362\n",
      " -1.8571504   0.11902235  0.26714483  1.6910808  -0.6290168  -0.9927845\n",
      "  0.51617926 -0.03247907  0.17366417 -1.0267663   1.3499434   0.8448201\n",
      " -1.4545704   1.0126894   2.160666    0.7475822   1.1752864  -1.5284696\n",
      "  0.23531707 -0.6484768  -1.57987    -1.019811   -0.14883037  2.356232\n",
      " -1.2557125  -0.95312804  0.74097484  0.08202771  0.12414753 -0.05929125\n",
      " -2.6730897  -1.2946082   1.3902224  -1.9339058   1.2619342   2.6497023\n",
      "  0.5397458   0.25113216 -1.750592   -2.268266   -0.36841357 -0.70102173\n",
      "  0.51685435 -2.0885098  -1.2879629  -0.49313074  0.5084152  -0.6880443\n",
      " -0.12633383  0.3664272  -1.8689376   1.6915411  -2.094363    1.6765395\n",
      " -0.737585   -1.840413   -0.14964604  0.15875211 -2.9236722   0.08810006\n",
      " -1.6087202   1.0514292   0.2097243  -0.8076301  -0.11574336  0.16736293\n",
      "  1.419428   -1.6261122   0.90934545  0.8228463   1.257754   -0.56725204\n",
      " -0.9301741   0.9349095   0.6650267  -1.4365019  -1.4436202  -1.083309  ]\n"
     ]
    }
   ],
   "source": [
    "gme_vectorized_posts = pickle.load(open(f'E:/reddit_data/GME_vectorized_posts.p', \"rb\"))\n",
    "tsla_vectorized_posts = pickle.load(open(f'E:/reddit_data/TSLA_vectorized_posts.p', \"rb\"))\n",
    "\n",
    "start_date = dt.date(2019, 4, 27)\n",
    "print(len(gme_vectorized_posts))\n",
    "print(len(tsla_vectorized_posts))\n",
    "\n",
    "# print(gme_vectorized_posts[start_date])\n",
    "print(tsla_vectorized_posts[start_date])\n"
   ],
   "metadata": {
    "collapsed": false,
    "pycharm": {
     "name": "#%%\n"
    }
   }
  },
  {
   "cell_type": "code",
   "execution_count": 48,
   "outputs": [
    {
     "name": "stdout",
     "output_type": "stream",
     "text": [
      "         close\n",
      "0    -0.987264\n",
      "1    -0.983914\n",
      "2    -0.983995\n",
      "3    -0.983238\n",
      "4    -0.982477\n",
      "...        ...\n",
      "1336  0.611612\n",
      "1337  0.407947\n",
      "1338  0.416472\n",
      "1339  0.409773\n",
      "1340  0.398467\n",
      "\n",
      "[1341 rows x 1 columns]\n"
     ]
    },
    {
     "name": "stderr",
     "output_type": "stream",
     "text": [
      "C:\\Users\\admin\\AppData\\Local\\Temp/ipykernel_7180/1789422434.py:3: SettingWithCopyWarning: \n",
      "A value is trying to be set on a copy of a slice from a DataFrame.\n",
      "Try using .loc[row_indexer,col_indexer] = value instead\n",
      "\n",
      "See the caveats in the documentation: https://pandas.pydata.org/pandas-docs/stable/user_guide/indexing.html#returning-a-view-versus-a-copy\n",
      "  price['close'] = scaler.fit_transform(price['close'].values.reshape(-1,1))\n"
     ]
    }
   ],
   "source": [
    "price = tsla_prices[['close']]\n",
    "scaler = MinMaxScaler(feature_range=(-1, 1))\n",
    "price['close'] = scaler.fit_transform(price['close'].values.reshape(-1,1))\n",
    "print(price)\n"
   ],
   "metadata": {
    "collapsed": false,
    "pycharm": {
     "name": "#%%\n"
    }
   }
  },
  {
   "cell_type": "markdown",
   "source": [
    "Slice data and construct training/test sets\n",
    "\n",
    "IDEA: convert UTC timestamp to date first, then aggregate\n",
    "\n",
    "also test with sentiment api data"
   ],
   "metadata": {
    "collapsed": false
   }
  },
  {
   "cell_type": "code",
   "execution_count": 59,
   "outputs": [],
   "source": [
    "def split_data(stock, lookback):\n",
    "    data_raw = stock.to_numpy() # convert to numpy array\n",
    "    data = []\n",
    "\n",
    "    # create all possible sequences of length seq_len\n",
    "    for index in range(len(data_raw) - lookback):\n",
    "        data.append(data_raw[index: index + lookback])\n",
    "\n",
    "    data = np.array(data)\n",
    "    test_set_size = int(np.round(0.2*data.shape[0]))\n",
    "    train_set_size = data.shape[0] - (test_set_size)\n",
    "\n",
    "    x_train = data[:train_set_size,:-1,:]\n",
    "    y_train = data[:train_set_size,-1,:]\n",
    "\n",
    "    x_test = data[train_set_size:,:-1]\n",
    "    y_test = data[train_set_size:,-1,:]\n",
    "\n",
    "    return [x_train, y_train, x_test, y_test]\n",
    "\n",
    "lookback = 20 # choose sequence length\n",
    "x_train, y_train, x_test, y_test = split_data(price, lookback)\n",
    "\n",
    "x_train = torch.from_numpy(x_train).type(torch.Tensor)\n",
    "x_test = torch.from_numpy(x_test).type(torch.Tensor)\n",
    "y_train_lstm = torch.from_numpy(y_train).type(torch.Tensor)\n",
    "y_test_lstm = torch.from_numpy(y_test).type(torch.Tensor)\n",
    "# y_train_gru = torch.from_numpy(y_train).type(torch.Tensor)\n",
    "# y_test_gru = torch.from_numpy(y_test).type(torch.Tensor)"
   ],
   "metadata": {
    "collapsed": false,
    "pycharm": {
     "name": "#%%\n"
    }
   }
  },
  {
   "cell_type": "markdown",
   "source": [
    "Define model architecture"
   ],
   "metadata": {
    "collapsed": false
   }
  },
  {
   "cell_type": "code",
   "execution_count": 60,
   "outputs": [],
   "source": [
    "class LSTM(nn.Module):\n",
    "    def __init__(self, input_dim, hidden_dim, num_layers, output_dim):\n",
    "        super(LSTM, self).__init__()\n",
    "        self.hidden_dim = hidden_dim\n",
    "        self.num_layers = num_layers\n",
    "\n",
    "        self.lstm = nn.LSTM(input_dim, hidden_dim, num_layers, batch_first=True)\n",
    "        self.fc = nn.Linear(hidden_dim, output_dim)\n",
    "    def forward(self, x):\n",
    "        h0 = torch.zeros(self.num_layers, x.size(0), self.hidden_dim).requires_grad_()\n",
    "        c0 = torch.zeros(self.num_layers, x.size(0), self.hidden_dim).requires_grad_()\n",
    "        out, (hn, cn) = self.lstm(x, (h0.detach(), c0.detach()))\n",
    "        out = self.fc(out[:, -1, :])\n",
    "        return out"
   ],
   "metadata": {
    "collapsed": false,
    "pycharm": {
     "name": "#%%\n"
    }
   }
  },
  {
   "cell_type": "code",
   "execution_count": 61,
   "outputs": [],
   "source": [
    "input_dim = 1\n",
    "hidden_dim = 32\n",
    "num_layers = 2\n",
    "output_dim = 1\n",
    "num_epochs = 200\n",
    "\n",
    "model = LSTM(input_dim=input_dim, hidden_dim=hidden_dim, output_dim=output_dim, num_layers=num_layers)\n",
    "criterion = torch.nn.MSELoss(reduction='mean')\n",
    "optimiser = torch.optim.Adam(model.parameters(), lr=0.01)"
   ],
   "metadata": {
    "collapsed": false,
    "pycharm": {
     "name": "#%%\n"
    }
   }
  },
  {
   "cell_type": "markdown",
   "source": [
    "Train model over 100 epochs"
   ],
   "metadata": {
    "collapsed": false
   }
  },
  {
   "cell_type": "code",
   "execution_count": 63,
   "outputs": [
    {
     "name": "stdout",
     "output_type": "stream",
     "text": [
      "Epoch  0 MSE:  0.0006914425175637007\n",
      "Epoch  1 MSE:  0.0006903292378410697\n",
      "Epoch  2 MSE:  0.000689229229465127\n",
      "Epoch  3 MSE:  0.0006881427834741771\n",
      "Epoch  4 MSE:  0.0006870694342069328\n",
      "Epoch  5 MSE:  0.0006860087742097676\n",
      "Epoch  6 MSE:  0.0006849610363133252\n",
      "Epoch  7 MSE:  0.0006839257548563182\n",
      "Epoch  8 MSE:  0.0006829025805927813\n",
      "Epoch  9 MSE:  0.0006818916881456971\n",
      "Epoch  10 MSE:  0.0006808924372307956\n",
      "Epoch  11 MSE:  0.0006799049442633986\n",
      "Epoch  12 MSE:  0.0006789290928281844\n",
      "Epoch  13 MSE:  0.0006779642426408827\n",
      "Epoch  14 MSE:  0.0006770105101168156\n",
      "Epoch  15 MSE:  0.0006760676042176783\n",
      "Epoch  16 MSE:  0.0006751353503204882\n",
      "Epoch  17 MSE:  0.0006742133991792798\n",
      "Epoch  18 MSE:  0.0006733016343787313\n",
      "Epoch  19 MSE:  0.0006724001141265035\n",
      "Epoch  20 MSE:  0.0006715083145536482\n",
      "Epoch  21 MSE:  0.0006706262356601655\n",
      "Epoch  22 MSE:  0.0006697536446154118\n",
      "Epoch  23 MSE:  0.0006688901921734214\n",
      "Epoch  24 MSE:  0.0006680359947495162\n",
      "Epoch  25 MSE:  0.0006671907613053918\n",
      "Epoch  26 MSE:  0.0006663542590104043\n",
      "Epoch  27 MSE:  0.000665526429656893\n",
      "Epoch  28 MSE:  0.0006647069239988923\n",
      "Epoch  29 MSE:  0.0006638958002440631\n",
      "Epoch  30 MSE:  0.00066309270914644\n",
      "Epoch  31 MSE:  0.0006622975924983621\n",
      "Epoch  32 MSE:  0.0006615102756768465\n",
      "Epoch  33 MSE:  0.0006607307586818933\n",
      "Epoch  34 MSE:  0.0006599585758522153\n",
      "Epoch  35 MSE:  0.0006591938436031342\n",
      "Epoch  36 MSE:  0.0006584363291040063\n",
      "Epoch  37 MSE:  0.000657685857731849\n",
      "Epoch  38 MSE:  0.0006569424876943231\n",
      "Epoch  39 MSE:  0.0006562057533301413\n",
      "Epoch  40 MSE:  0.0006554761785082519\n",
      "Epoch  41 MSE:  0.0006547527154907584\n",
      "Epoch  42 MSE:  0.00065403594635427\n",
      "Epoch  43 MSE:  0.0006533254636451602\n",
      "Epoch  44 MSE:  0.0006526212091557682\n",
      "Epoch  45 MSE:  0.0006519232410937548\n",
      "Epoch  46 MSE:  0.0006512311520054936\n",
      "Epoch  47 MSE:  0.0006505450000986457\n",
      "Epoch  48 MSE:  0.0006498647853732109\n",
      "Epoch  49 MSE:  0.0006491901585832238\n",
      "Epoch  50 MSE:  0.0006485211779363453\n",
      "Epoch  51 MSE:  0.0006478578434325755\n",
      "Epoch  52 MSE:  0.0006471998058259487\n",
      "Epoch  53 MSE:  0.0006465471815317869\n",
      "Epoch  54 MSE:  0.0006458997959271073\n",
      "Epoch  55 MSE:  0.00064525764901191\n",
      "Epoch  56 MSE:  0.0006446203915402293\n",
      "Epoch  57 MSE:  0.00064398831455037\n",
      "Epoch  58 MSE:  0.0006433611270040274\n",
      "Epoch  59 MSE:  0.0006427387706935406\n",
      "Epoch  60 MSE:  0.0006421212456189096\n",
      "Epoch  61 MSE:  0.0006415083189494908\n",
      "Epoch  62 MSE:  0.0006409001653082669\n",
      "Epoch  63 MSE:  0.0006402963772416115\n",
      "Epoch  64 MSE:  0.0006396970711648464\n",
      "Epoch  65 MSE:  0.0006391023052856326\n",
      "Epoch  66 MSE:  0.0006385118467733264\n",
      "Epoch  67 MSE:  0.000637925579212606\n",
      "Epoch  68 MSE:  0.0006373435608111322\n",
      "Epoch  69 MSE:  0.0006367656751535833\n",
      "Epoch  70 MSE:  0.0006361918640322983\n",
      "Epoch  71 MSE:  0.0006356219528242946\n",
      "Epoch  72 MSE:  0.0006350562325678766\n",
      "Epoch  73 MSE:  0.000634494237601757\n",
      "Epoch  74 MSE:  0.0006339360261335969\n",
      "Epoch  75 MSE:  0.000633381714578718\n",
      "Epoch  76 MSE:  0.0006328310701064765\n",
      "Epoch  77 MSE:  0.0006322841509245336\n",
      "Epoch  78 MSE:  0.0006317407824099064\n",
      "Epoch  79 MSE:  0.0006312010227702558\n",
      "Epoch  80 MSE:  0.0006306646391749382\n",
      "Epoch  81 MSE:  0.0006301316316239536\n",
      "Epoch  82 MSE:  0.0006296020001173019\n",
      "Epoch  83 MSE:  0.000629075919277966\n",
      "Epoch  84 MSE:  0.0006285528652369976\n",
      "Epoch  85 MSE:  0.0006280331872403622\n",
      "Epoch  86 MSE:  0.0006275166524574161\n",
      "Epoch  87 MSE:  0.0006270032026804984\n",
      "Epoch  88 MSE:  0.0006264926632866263\n",
      "Epoch  89 MSE:  0.0006259853253141046\n",
      "Epoch  90 MSE:  0.0006254808395169675\n",
      "Epoch  91 MSE:  0.0006249793223105371\n",
      "Epoch  92 MSE:  0.0006244806572794914\n",
      "Epoch  93 MSE:  0.0006239847862161696\n",
      "Epoch  94 MSE:  0.0006234915927052498\n",
      "Epoch  95 MSE:  0.0006230012513697147\n",
      "Epoch  96 MSE:  0.0006225134711712599\n",
      "Epoch  97 MSE:  0.0006220281939022243\n",
      "Epoch  98 MSE:  0.0006215455941855907\n",
      "Epoch  99 MSE:  0.0006210654973983765\n",
      "Epoch  100 MSE:  0.0006205879035405815\n",
      "Epoch  101 MSE:  0.000620112637989223\n",
      "Epoch  102 MSE:  0.0006196397007443011\n",
      "Epoch  103 MSE:  0.0006191691500134766\n",
      "Epoch  104 MSE:  0.0006187008111737669\n",
      "Epoch  105 MSE:  0.0006182347424328327\n",
      "Epoch  106 MSE:  0.0006177707691676915\n",
      "Epoch  107 MSE:  0.0006173088913783431\n",
      "Epoch  108 MSE:  0.0006168492254801095\n",
      "Epoch  109 MSE:  0.000616391422227025\n",
      "Epoch  110 MSE:  0.0006159356562420726\n",
      "Epoch  111 MSE:  0.0006154820439405739\n",
      "Epoch  112 MSE:  0.0006150300614535809\n",
      "Epoch  113 MSE:  0.000614579941611737\n",
      "Epoch  114 MSE:  0.0006141318008303642\n",
      "Epoch  115 MSE:  0.000613685289863497\n",
      "Epoch  116 MSE:  0.0006132404669187963\n",
      "Epoch  117 MSE:  0.000612797390203923\n",
      "Epoch  118 MSE:  0.0006123558268882334\n",
      "Epoch  119 MSE:  0.0006119160098023713\n",
      "Epoch  120 MSE:  0.0006114776479080319\n",
      "Epoch  121 MSE:  0.0006110407412052155\n",
      "Epoch  122 MSE:  0.0006106053479015827\n",
      "Epoch  123 MSE:  0.0006101714097894728\n",
      "Epoch  124 MSE:  0.000609738752245903\n",
      "Epoch  125 MSE:  0.000609307549893856\n",
      "Epoch  126 MSE:  0.0006088775699026883\n",
      "Epoch  127 MSE:  0.0006084488122723997\n",
      "Epoch  128 MSE:  0.0006080215098336339\n",
      "Epoch  129 MSE:  0.0006075951387174428\n",
      "Epoch  130 MSE:  0.0006071700481697917\n",
      "Epoch  131 MSE:  0.0006067461217753589\n",
      "Epoch  132 MSE:  0.0006063231849111617\n",
      "Epoch  133 MSE:  0.0006059013539925218\n",
      "Epoch  134 MSE:  0.0006054805708117783\n",
      "Epoch  135 MSE:  0.0006050605443306267\n",
      "Epoch  136 MSE:  0.0006046416237950325\n",
      "Epoch  137 MSE:  0.0006042237509973347\n",
      "Epoch  138 MSE:  0.0006038066931068897\n",
      "Epoch  139 MSE:  0.0006033903919160366\n",
      "Epoch  140 MSE:  0.0006029749638400972\n",
      "Epoch  141 MSE:  0.0006025602924637496\n",
      "Epoch  142 MSE:  0.0006021466106176376\n",
      "Epoch  143 MSE:  0.0006017334526404738\n",
      "Epoch  144 MSE:  0.0006013212259858847\n",
      "Epoch  145 MSE:  0.0006009095232002437\n",
      "Epoch  146 MSE:  0.0006004985189065337\n",
      "Epoch  147 MSE:  0.0006000881548970938\n",
      "Epoch  148 MSE:  0.000599678372964263\n",
      "Epoch  149 MSE:  0.0005992692895233631\n",
      "Epoch  150 MSE:  0.0005988606717437506\n",
      "Epoch  151 MSE:  0.000598452752456069\n",
      "Epoch  152 MSE:  0.0005980451824143529\n",
      "Epoch  153 MSE:  0.0005976383108645678\n",
      "Epoch  154 MSE:  0.000597231846768409\n",
      "Epoch  155 MSE:  0.0005968258483335376\n",
      "Epoch  156 MSE:  0.0005964203737676144\n",
      "Epoch  157 MSE:  0.0005960151902399957\n",
      "Epoch  158 MSE:  0.0005956104723736644\n",
      "Epoch  159 MSE:  0.0005952062201686203\n",
      "Epoch  160 MSE:  0.0005948023754172027\n",
      "Epoch  161 MSE:  0.0005943988217040896\n",
      "Epoch  162 MSE:  0.000593995617236942\n",
      "Epoch  163 MSE:  0.0005935927620157599\n",
      "Epoch  164 MSE:  0.0005931903142482042\n",
      "Epoch  165 MSE:  0.0005927880411036313\n",
      "Epoch  166 MSE:  0.0005923862336203456\n",
      "Epoch  167 MSE:  0.0005919844843447208\n",
      "Epoch  168 MSE:  0.0005915832589380443\n",
      "Epoch  169 MSE:  0.0005911822081543505\n",
      "Epoch  170 MSE:  0.0005907813319936395\n",
      "Epoch  171 MSE:  0.000590380746871233\n",
      "Epoch  172 MSE:  0.0005899803945794702\n",
      "Epoch  173 MSE:  0.0005895802169106901\n",
      "Epoch  174 MSE:  0.0005891802138648927\n",
      "Epoch  175 MSE:  0.0005887806764803827\n",
      "Epoch  176 MSE:  0.0005883810808882117\n",
      "Epoch  177 MSE:  0.0005879817181266844\n",
      "Epoch  178 MSE:  0.0005875825881958008\n",
      "Epoch  179 MSE:  0.0005871836328878999\n",
      "Epoch  180 MSE:  0.0005867847357876599\n",
      "Epoch  181 MSE:  0.0005863860715180635\n",
      "Epoch  182 MSE:  0.00058598758187145\n",
      "Epoch  183 MSE:  0.0005855891504324973\n",
      "Epoch  184 MSE:  0.0005851909518241882\n",
      "Epoch  185 MSE:  0.000584792869631201\n",
      "Epoch  186 MSE:  0.0005843949038535357\n",
      "Epoch  187 MSE:  0.0005839969962835312\n",
      "Epoch  188 MSE:  0.0005835992051288486\n",
      "Epoch  189 MSE:  0.0005832017050124705\n",
      "Epoch  190 MSE:  0.0005828042048960924\n",
      "Epoch  191 MSE:  0.0005824067629873753\n",
      "Epoch  192 MSE:  0.0005820095539093018\n",
      "Epoch  193 MSE:  0.0005816122866235673\n",
      "Epoch  194 MSE:  0.0005812151939608157\n",
      "Epoch  195 MSE:  0.0005808182177133858\n",
      "Epoch  196 MSE:  0.0005804213578812778\n",
      "Epoch  197 MSE:  0.0005800245562568307\n",
      "Epoch  198 MSE:  0.0005796278128400445\n",
      "Epoch  199 MSE:  0.000579231244046241\n",
      "Training time: 20.28153133392334\n"
     ]
    }
   ],
   "source": [
    "hist = np.zeros(num_epochs)\n",
    "start_time = time.time()\n",
    "lstm = []\n",
    "for t in range(num_epochs):\n",
    "    y_train_pred = model(x_train)\n",
    "    loss = criterion(y_train_pred, y_train_lstm)\n",
    "    print(\"Epoch \", t, \"MSE: \", loss.item())\n",
    "    hist[t] = loss.item()\n",
    "    optimiser.zero_grad()\n",
    "    loss.backward()\n",
    "    optimiser.step()\n",
    "\n",
    "training_time = time.time()-start_time\n",
    "print(\"Training time: {}\".format(training_time))\n"
   ],
   "metadata": {
    "collapsed": false,
    "pycharm": {
     "name": "#%%\n"
    }
   }
  },
  {
   "cell_type": "markdown",
   "source": [
    "Evaluate training and test accuracy\n"
   ],
   "metadata": {
    "collapsed": false
   }
  },
  {
   "cell_type": "code",
   "execution_count": 65,
   "outputs": [
    {
     "name": "stdout",
     "output_type": "stream",
     "text": [
      "Test MSE:  0.0067209890112280846\n",
      "[[ 49.848]\n",
      " [ 50.31 ]\n",
      " [ 50.266]\n",
      " ...\n",
      " [881.51 ]\n",
      " [877.51 ]\n",
      " [870.76 ]]\n"
     ]
    },
    {
     "data": {
      "text/plain": "<Figure size 432x288 with 1 Axes>",
      "image/png": "[encoded data removed]"
     },
     "metadata": {
      "needs_background": "light"
     },
     "output_type": "display_data"
    }
   ],
   "source": [
    "y_train_pred = model(x_train) # forward\n",
    "y_test_pred = model(x_test)\n",
    "\n",
    "test_loss = criterion(y_test_pred, y_test_lstm)\n",
    "print(\"Test MSE: \", test_loss.item())\n",
    "\n",
    "y_train_unscaled = scaler.inverse_transform(y_train_pred.tolist())\n",
    "y_test_unscaled = scaler.inverse_transform(y_test_pred.tolist())\n",
    "\n",
    "# y_all_pred = y_train_pred + y_test_pred\n",
    "y_gt = tsla_prices[['close']].to_numpy()[lookback:]\n",
    "print(y_gt)\n",
    "x_axis = range(len(y_train_pred))\n",
    "\n",
    "# print(max(y_all_pred))\n",
    "# unscaled_pred = scaler.inverse_transform(y_all_pred)\n",
    "# print(max(unscaled_pred))\n",
    "train_len = len(y_train_unscaled)\n",
    "test_len = len(y_test_unscaled)\n",
    "\n",
    "plt.plot(range(len(y_gt)), y_gt)\n",
    "plt.plot(range(train_len), y_train_unscaled)\n",
    "plt.plot(range(train_len, train_len + test_len), y_test_unscaled)\n",
    "\n",
    "plt.show()\n"
   ],
   "metadata": {
    "collapsed": false,
    "pycharm": {
     "name": "#%%\n"
    }
   }
  }
 ],
 "metadata": {
  "kernelspec": {
   "display_name": "Python 3",
   "language": "python",
   "name": "python3"
  },
  "language_info": {
   "codemirror_mode": {
    "name": "ipython",
    "version": 2
   },
   "file_extension": ".py",
   "mimetype": "text/x-python",
   "name": "python",
   "nbconvert_exporter": "python",
   "pygments_lexer": "ipython2",
   "version": "2.7.6"
  }
 },
 "nbformat": 4,
 "nbformat_minor": 0
}