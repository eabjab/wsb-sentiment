{
 "cells": [
  {
   "cell_type": "markdown",
   "metadata": {
    "collapsed": true,
    "pycharm": {
     "name": "#%% md\n"
    }
   },
   "source": [
    "### ISA 414 Final Project - Stock Predictions through Unsupervised Sentiment Analysis\n",
    "##### Ethan Buege, Jorge Nadjar, Mac Magyaros\n",
    "\n",
    "Libraries being used:\n",
    "- Pandas\n",
    "- Numpy\n",
    "- PSAW (Python Pushshift.io API Wrapper)\n",
    "- PRAW (Python Reddit API Wrapper)\n",
    "- PyTorch\n",
    "- sklearn"
   ]
  },
  {
   "cell_type": "code",
   "execution_count": 193,
   "metadata": {
    "collapsed": false,
    "pycharm": {
     "name": "#%%\n"
    }
   },
   "outputs": [],
   "source": [
    "# standard python libraries\n",
    "import requests\n",
    "from requests import auth\n",
    "import time\n",
    "from time import sleep\n",
    "import datetime as dt\n",
    "from datetime import timezone\n",
    "import collections\n",
    "import random\n",
    "import logging\n",
    "\n",
    "# data handling\n",
    "import pandas as pd\n",
    "import numpy as np\n",
    "import re\n",
    "import pickle\n",
    "import pymongo\n",
    "\n",
    "# reddit API\n",
    "import praw\n",
    "from psaw import PushshiftAPI\n",
    "from praw.models import MoreComments\n",
    "\n",
    "# unsupervised sentiment analysis - doc2vec encoding\n",
    "import gensim\n",
    "from sklearn.model_selection import train_test_split\n",
    "from sklearn.preprocessing import MinMaxScaler\n",
    "from sklearn.preprocessing import minmax_scale\n",
    "\n",
    "# pytorch\n",
    "import torch\n",
    "import torch.nn as nn\n",
    "import torch.nn.functional as F\n",
    "import torch.optim as optim\n",
    "import torchtext as tt\n",
    "\n",
    "# visualization\n",
    "import matplotlib.pyplot as plt\n",
    "\n",
    "logging.basicConfig(format='%(asctime)s : %(levelname)s : %(message)s', level=logging.INFO)\n",
    "use_cuda = torch.cuda.is_available()\n",
    "\n",
    "top_10_tickers = ['GME', 'AMC', 'TSLA', 'AAPL', 'AMZN', 'AMD', 'NVDA', 'MSFT', 'SPY', 'QQQ']"
   ]
  },
  {
   "cell_type": "code",
   "execution_count": 153,
   "metadata": {
    "collapsed": false,
    "pycharm": {
     "name": "#%%\n"
    }
   },
   "outputs": [],
   "source": [
    "doc2vec_model = pickle.load(open('doc2vec_model.p', \"rb\"))"
   ]
  },
  {
   "cell_type": "code",
   "execution_count": 10,
   "metadata": {
    "collapsed": false,
    "pycharm": {
     "name": "#%%\n"
    }
   },
   "outputs": [
    {
     "name": "stdout",
     "output_type": "stream",
     "text": [
      "aggregated and vectorized GME posts saved to disk\n",
      "aggregated and vectorized AMC posts saved to disk\n",
      "aggregated and vectorized TSLA posts saved to disk\n",
      "aggregated and vectorized AAPL posts saved to disk\n",
      "aggregated and vectorized AMZN posts saved to disk\n",
      "aggregated and vectorized AMD posts saved to disk\n",
      "aggregated and vectorized NVDA posts saved to disk\n",
      "aggregated and vectorized MSFT posts saved to disk\n",
      "aggregated and vectorized SPY posts saved to disk\n",
      "aggregated and vectorized QQQ posts saved to disk\n"
     ]
    }
   ],
   "source": [
    "def aggregate_posts_by_day(ticker):\n",
    "    aggregated_daily_posts = {}\n",
    "    posts = pickle.load(open(f'E:/reddit_data/{ticker}_series.p', \"rb\"))\n",
    "    # replace UTC timestamp with date for easy aggregation\n",
    "    for post in posts:\n",
    "        day = dt.datetime.utcfromtimestamp(post.created_utc).date()\n",
    "        delta = day.weekday() - 4\n",
    "        if delta > 0:  # if day is weekend, aggregate to friday\n",
    "            days_back = dt.timedelta(delta)\n",
    "            day -= days_back\n",
    "\n",
    "        if day not in aggregated_daily_posts:\n",
    "            aggregated_daily_posts[day] = ''\n",
    "\n",
    "            # aggregate titles\n",
    "        if 'deleted by user' not in post.title and len(post.title) > 5:\n",
    "            aggregated_daily_posts[day] = ' '.join([aggregated_daily_posts[day], post.title])\n",
    "\n",
    "            # add bodytext if it exists and has not been deleted\n",
    "            # WSB has minimum length requirements so the only posts less than 20 chars have been deleted\n",
    "            if len(post.selftext) > 20:\n",
    "                aggregated_daily_posts[day] = ' '.join([aggregated_daily_posts[day], post.selftext])\n",
    "\n",
    "    return aggregated_daily_posts\n",
    "\n",
    "\n",
    "# daily_posts = aggregate_posts_by_day('TSLA')\n",
    "\n",
    "\n",
    "for ticker in top_10_tickers:\n",
    "    daily_posts = aggregate_posts_by_day(ticker)\n",
    "    for day in daily_posts:\n",
    "        tokens = gensim.utils.simple_preprocess(daily_posts[day])\n",
    "        daily_posts[day] = doc2vec_model.infer_vector(tokens)\n",
    "\n",
    "    print(f'aggregated and vectorized {ticker} posts saved to disk')\n",
    "    pickle.dump(daily_posts, open(f'E:/reddit_data/{ticker}_vectorized_posts.p', \"wb\"))"
   ]
  },
  {
   "cell_type": "code",
   "execution_count": 154,
   "metadata": {
    "collapsed": false,
    "pycharm": {
     "name": "#%%\n"
    }
   },
   "outputs": [],
   "source": [
    "# gme_vectorized_posts = pickle.load(open(f'E:/reddit_data/GME_vectorized_posts.p', \"rb\"))\n",
    "\n",
    "\n",
    "# start_date = dt.date(2019, 4, 26)\n",
    "# print(len(gme_vectorized_posts))\n",
    "# print(len(tsla_vectorized_posts))\n",
    "\n",
    "# print(gme_vectorized_posts[start_date])\n",
    "# print(tsla_vectorized_posts[start_date])\n"
   ]
  },
  {
   "cell_type": "markdown",
   "metadata": {},
   "source": [
    "### Addition - Jorge"
   ]
  },
  {
   "cell_type": "code",
   "execution_count": 162,
   "metadata": {},
   "outputs": [
    {
     "data": {
      "text/plain": "            from      open      high       low     close    volume  \\\n0     2017-04-24    61.844    62.110   61.2043    61.606  25417525   \n1     2017-04-25    61.600    62.796   61.1720    62.758  33688540   \n2     2017-04-26    62.474    62.900   61.8000    62.034  23475220   \n3     2017-04-27    62.338    62.618   61.5000    61.726  17342845   \n4     2017-04-28    61.966    62.960   61.6000    62.814  22527390   \n...          ...       ...       ...       ...       ...       ...   \n1255  2022-04-18   989.030  1014.920  973.4100  1004.290  17237387   \n1256  2022-04-19  1005.060  1034.940  995.3250  1028.150  16604744   \n1257  2022-04-20  1030.000  1034.000  975.2501   977.200  23534922   \n1258  2022-04-21  1074.730  1092.220  996.4150  1008.780  35136565   \n1259  2022-04-22  1014.910  1034.850  994.0001  1005.050  23226886   \n\n      afterHours  preMarket  \n0        61.5460     62.000  \n1        62.7500     61.700  \n2        62.0020     62.628  \n3        61.8200     61.980  \n4        62.9200     61.958  \n...          ...        ...  \n1255   1013.0200    987.250  \n1256   1018.0000   1008.180  \n1257   1031.1800   1015.240  \n1258   1011.3999   1031.610  \n1259   1000.3000   1011.400  \n\n[1260 rows x 8 columns]",
      "text/html": "<div>\n<style scoped>\n    .dataframe tbody tr th:only-of-type {\n        vertical-align: middle;\n    }\n\n    .dataframe tbody tr th {\n        vertical-align: top;\n    }\n\n    .dataframe thead th {\n        text-align: right;\n    }\n</style>\n<table border=\"1\" class=\"dataframe\">\n  <thead>\n    <tr style=\"text-align: right;\">\n      <th></th>\n      <th>from</th>\n      <th>open</th>\n      <th>high</th>\n      <th>low</th>\n      <th>close</th>\n      <th>volume</th>\n      <th>afterHours</th>\n      <th>preMarket</th>\n    </tr>\n  </thead>\n  <tbody>\n    <tr>\n      <th>0</th>\n      <td>2017-04-24</td>\n      <td>61.844</td>\n      <td>62.110</td>\n      <td>61.2043</td>\n      <td>61.606</td>\n      <td>25417525</td>\n      <td>61.5460</td>\n      <td>62.000</td>\n    </tr>\n    <tr>\n      <th>1</th>\n      <td>2017-04-25</td>\n      <td>61.600</td>\n      <td>62.796</td>\n      <td>61.1720</td>\n      <td>62.758</td>\n      <td>33688540</td>\n      <td>62.7500</td>\n      <td>61.700</td>\n    </tr>\n    <tr>\n      <th>2</th>\n      <td>2017-04-26</td>\n      <td>62.474</td>\n      <td>62.900</td>\n      <td>61.8000</td>\n      <td>62.034</td>\n      <td>23475220</td>\n      <td>62.0020</td>\n      <td>62.628</td>\n    </tr>\n    <tr>\n      <th>3</th>\n      <td>2017-04-27</td>\n      <td>62.338</td>\n      <td>62.618</td>\n      <td>61.5000</td>\n      <td>61.726</td>\n      <td>17342845</td>\n      <td>61.8200</td>\n      <td>61.980</td>\n    </tr>\n    <tr>\n      <th>4</th>\n      <td>2017-04-28</td>\n      <td>61.966</td>\n      <td>62.960</td>\n      <td>61.6000</td>\n      <td>62.814</td>\n      <td>22527390</td>\n      <td>62.9200</td>\n      <td>61.958</td>\n    </tr>\n    <tr>\n      <th>...</th>\n      <td>...</td>\n      <td>...</td>\n      <td>...</td>\n      <td>...</td>\n      <td>...</td>\n      <td>...</td>\n      <td>...</td>\n      <td>...</td>\n    </tr>\n    <tr>\n      <th>1255</th>\n      <td>2022-04-18</td>\n      <td>989.030</td>\n      <td>1014.920</td>\n      <td>973.4100</td>\n      <td>1004.290</td>\n      <td>17237387</td>\n      <td>1013.0200</td>\n      <td>987.250</td>\n    </tr>\n    <tr>\n      <th>1256</th>\n      <td>2022-04-19</td>\n      <td>1005.060</td>\n      <td>1034.940</td>\n      <td>995.3250</td>\n      <td>1028.150</td>\n      <td>16604744</td>\n      <td>1018.0000</td>\n      <td>1008.180</td>\n    </tr>\n    <tr>\n      <th>1257</th>\n      <td>2022-04-20</td>\n      <td>1030.000</td>\n      <td>1034.000</td>\n      <td>975.2501</td>\n      <td>977.200</td>\n      <td>23534922</td>\n      <td>1031.1800</td>\n      <td>1015.240</td>\n    </tr>\n    <tr>\n      <th>1258</th>\n      <td>2022-04-21</td>\n      <td>1074.730</td>\n      <td>1092.220</td>\n      <td>996.4150</td>\n      <td>1008.780</td>\n      <td>35136565</td>\n      <td>1011.3999</td>\n      <td>1031.610</td>\n    </tr>\n    <tr>\n      <th>1259</th>\n      <td>2022-04-22</td>\n      <td>1014.910</td>\n      <td>1034.850</td>\n      <td>994.0001</td>\n      <td>1005.050</td>\n      <td>23226886</td>\n      <td>1000.3000</td>\n      <td>1011.400</td>\n    </tr>\n  </tbody>\n</table>\n<p>1260 rows × 8 columns</p>\n</div>"
     },
     "execution_count": 162,
     "metadata": {},
     "output_type": "execute_result"
    }
   ],
   "source": [
    "tsla_vectorized_posts = pickle.load(open(f'E:/reddit_data/TSLA_vectorized_posts.p', \"rb\"))\n",
    "tsla_prices = pd.read_csv('TSLA_prices.csv')"
   ]
  },
  {
   "cell_type": "code",
   "execution_count": 163,
   "metadata": {},
   "outputs": [],
   "source": [
    "keys_values = tsla_vectorized_posts.items()\n",
    "tsla_posts_string = {key.strftime('%Y-%m-%d'): value for key, value in keys_values}\n",
    "tsla_prices['Doc Vector'] = tsla_prices['from'].map(tsla_posts_string)"
   ]
  },
  {
   "cell_type": "code",
   "execution_count": 102,
   "metadata": {},
   "outputs": [
    {
     "name": "stdout",
     "output_type": "stream",
     "text": [
      "142\n"
     ]
    },
    {
     "data": {
      "text/plain": "            from      open      high       low     close    volume  \\\n0     2017-04-24    61.844    62.110   61.2043    61.606  25417525   \n1     2017-04-25    61.600    62.796   61.1720    62.758  33688540   \n2     2017-04-26    62.474    62.900   61.8000    62.034  23475220   \n3     2017-04-27    62.338    62.618   61.5000    61.726  17342845   \n4     2017-04-28    61.966    62.960   61.6000    62.814  22527390   \n...          ...       ...       ...       ...       ...       ...   \n1255  2022-04-18   989.030  1014.920  973.4100  1004.290  17237387   \n1256  2022-04-19  1005.060  1034.940  995.3250  1028.150  16604744   \n1257  2022-04-20  1030.000  1034.000  975.2501   977.200  23534922   \n1258  2022-04-21  1074.730  1092.220  996.4150  1008.780  35136565   \n1259  2022-04-22  1014.910  1034.850  994.0001  1005.050  23226886   \n\n      afterHours  preMarket                                         Doc Vector  \n0        61.5460     62.000  [0.040901948, 0.13189691, 0.21032988, 0.517476...  \n1        62.7500     61.700                                                NaN  \n2        62.0020     62.628                                                NaN  \n3        61.8200     61.980  [3.1744103, -0.71836853, 0.29069683, -1.844398...  \n4        62.9200     61.958                                                NaN  \n...          ...        ...                                                ...  \n1255   1013.0200    987.250                                                NaN  \n1256   1018.0000   1008.180                                                NaN  \n1257   1031.1800   1015.240                                                NaN  \n1258   1011.3999   1031.610                                                NaN  \n1259   1000.3000   1011.400                                                NaN  \n\n[1260 rows x 9 columns]",
      "text/html": "<div>\n<style scoped>\n    .dataframe tbody tr th:only-of-type {\n        vertical-align: middle;\n    }\n\n    .dataframe tbody tr th {\n        vertical-align: top;\n    }\n\n    .dataframe thead th {\n        text-align: right;\n    }\n</style>\n<table border=\"1\" class=\"dataframe\">\n  <thead>\n    <tr style=\"text-align: right;\">\n      <th></th>\n      <th>from</th>\n      <th>open</th>\n      <th>high</th>\n      <th>low</th>\n      <th>close</th>\n      <th>volume</th>\n      <th>afterHours</th>\n      <th>preMarket</th>\n      <th>Doc Vector</th>\n    </tr>\n  </thead>\n  <tbody>\n    <tr>\n      <th>0</th>\n      <td>2017-04-24</td>\n      <td>61.844</td>\n      <td>62.110</td>\n      <td>61.2043</td>\n      <td>61.606</td>\n      <td>25417525</td>\n      <td>61.5460</td>\n      <td>62.000</td>\n      <td>[0.040901948, 0.13189691, 0.21032988, 0.517476...</td>\n    </tr>\n    <tr>\n      <th>1</th>\n      <td>2017-04-25</td>\n      <td>61.600</td>\n      <td>62.796</td>\n      <td>61.1720</td>\n      <td>62.758</td>\n      <td>33688540</td>\n      <td>62.7500</td>\n      <td>61.700</td>\n      <td>NaN</td>\n    </tr>\n    <tr>\n      <th>2</th>\n      <td>2017-04-26</td>\n      <td>62.474</td>\n      <td>62.900</td>\n      <td>61.8000</td>\n      <td>62.034</td>\n      <td>23475220</td>\n      <td>62.0020</td>\n      <td>62.628</td>\n      <td>NaN</td>\n    </tr>\n    <tr>\n      <th>3</th>\n      <td>2017-04-27</td>\n      <td>62.338</td>\n      <td>62.618</td>\n      <td>61.5000</td>\n      <td>61.726</td>\n      <td>17342845</td>\n      <td>61.8200</td>\n      <td>61.980</td>\n      <td>[3.1744103, -0.71836853, 0.29069683, -1.844398...</td>\n    </tr>\n    <tr>\n      <th>4</th>\n      <td>2017-04-28</td>\n      <td>61.966</td>\n      <td>62.960</td>\n      <td>61.6000</td>\n      <td>62.814</td>\n      <td>22527390</td>\n      <td>62.9200</td>\n      <td>61.958</td>\n      <td>NaN</td>\n    </tr>\n    <tr>\n      <th>...</th>\n      <td>...</td>\n      <td>...</td>\n      <td>...</td>\n      <td>...</td>\n      <td>...</td>\n      <td>...</td>\n      <td>...</td>\n      <td>...</td>\n      <td>...</td>\n    </tr>\n    <tr>\n      <th>1255</th>\n      <td>2022-04-18</td>\n      <td>989.030</td>\n      <td>1014.920</td>\n      <td>973.4100</td>\n      <td>1004.290</td>\n      <td>17237387</td>\n      <td>1013.0200</td>\n      <td>987.250</td>\n      <td>NaN</td>\n    </tr>\n    <tr>\n      <th>1256</th>\n      <td>2022-04-19</td>\n      <td>1005.060</td>\n      <td>1034.940</td>\n      <td>995.3250</td>\n      <td>1028.150</td>\n      <td>16604744</td>\n      <td>1018.0000</td>\n      <td>1008.180</td>\n      <td>NaN</td>\n    </tr>\n    <tr>\n      <th>1257</th>\n      <td>2022-04-20</td>\n      <td>1030.000</td>\n      <td>1034.000</td>\n      <td>975.2501</td>\n      <td>977.200</td>\n      <td>23534922</td>\n      <td>1031.1800</td>\n      <td>1015.240</td>\n      <td>NaN</td>\n    </tr>\n    <tr>\n      <th>1258</th>\n      <td>2022-04-21</td>\n      <td>1074.730</td>\n      <td>1092.220</td>\n      <td>996.4150</td>\n      <td>1008.780</td>\n      <td>35136565</td>\n      <td>1011.3999</td>\n      <td>1031.610</td>\n      <td>NaN</td>\n    </tr>\n    <tr>\n      <th>1259</th>\n      <td>2022-04-22</td>\n      <td>1014.910</td>\n      <td>1034.850</td>\n      <td>994.0001</td>\n      <td>1005.050</td>\n      <td>23226886</td>\n      <td>1000.3000</td>\n      <td>1011.400</td>\n      <td>NaN</td>\n    </tr>\n  </tbody>\n</table>\n<p>1260 rows × 9 columns</p>\n</div>"
     },
     "execution_count": 102,
     "metadata": {},
     "output_type": "execute_result"
    }
   ],
   "source": [
    "print(tsla_prices['Doc Vector'].isna().sum())\n",
    "tsla_prices\n",
    "# tsla_prices['Doc Vector'] = tsla_prices['Doc Vector'].fillna(np.array([0] * 300))\n",
    "# print(tsla_prices['Doc Vector'].isna().sum())"
   ]
  },
  {
   "cell_type": "code",
   "execution_count": 164,
   "metadata": {
    "collapsed": false,
    "pycharm": {
     "name": "#%%\n"
    }
   },
   "outputs": [
    {
     "name": "stdout",
     "output_type": "stream",
     "text": [
      "         close\n",
      "0    -0.956768\n",
      "1    -0.954839\n",
      "2    -0.956051\n",
      "3    -0.956567\n",
      "4    -0.954745\n",
      "...        ...\n",
      "1255  0.622114\n",
      "1256  0.662076\n",
      "1257  0.576741\n",
      "1258  0.629634\n",
      "1259  0.623387\n",
      "\n",
      "[1260 rows x 1 columns]\n"
     ]
    },
    {
     "name": "stderr",
     "output_type": "stream",
     "text": [
      "C:\\Users\\admin\\AppData\\Local\\Temp/ipykernel_19972/3451838763.py:3: SettingWithCopyWarning: \n",
      "A value is trying to be set on a copy of a slice from a DataFrame.\n",
      "Try using .loc[row_indexer,col_indexer] = value instead\n",
      "\n",
      "See the caveats in the documentation: https://pandas.pydata.org/pandas-docs/stable/user_guide/indexing.html#returning-a-view-versus-a-copy\n",
      "  price['close'] = scaler.fit_transform(price['close'].values.reshape(-1, 1))\n"
     ]
    }
   ],
   "source": [
    "price = tsla_prices[['close']]\n",
    "scaler = MinMaxScaler(feature_range=(-1, 1))\n",
    "price['close'] = scaler.fit_transform(price['close'].values.reshape(-1, 1))\n",
    "print(price)"
   ]
  },
  {
   "cell_type": "code",
   "execution_count": 165,
   "outputs": [
    {
     "name": "stdout",
     "output_type": "stream",
     "text": [
      "(1260, 300)\n",
      "[-1.75638944e-02  3.87618691e-02  8.73117596e-02  2.77435154e-01\n",
      " -8.11077431e-02 -6.50198981e-02  1.85869813e-01  4.18952614e-01\n",
      "  6.43534437e-02 -3.21677104e-02 -3.06952558e-02 -2.22989798e-01\n",
      "  3.41111571e-01  1.06559888e-01 -3.42815556e-02 -4.85008925e-01\n",
      "  4.27968323e-01  2.46909201e-01 -4.79804307e-01  1.47895701e-02\n",
      " -5.55715978e-01 -6.03959739e-01  6.53218627e-01 -5.32940030e-01\n",
      "  1.00000000e+00  4.40795124e-01 -1.91278353e-01 -1.62204176e-01\n",
      " -1.08288251e-01 -1.82405055e-01  5.84190667e-01 -4.96096879e-01\n",
      "  4.49462116e-01  3.00554186e-01 -1.55929387e-01  6.68176293e-01\n",
      " -5.04411817e-01  2.54654020e-01  1.46798998e-01 -7.91576281e-02\n",
      " -2.11259022e-01 -5.61412096e-01 -3.83153945e-01 -2.72830665e-01\n",
      " -2.34086849e-02 -3.47140104e-01 -1.33050099e-01 -2.01050565e-01\n",
      "  4.55972850e-01 -1.49987880e-02  4.60443497e-02  9.75347310e-03\n",
      "  5.41220725e-01  3.33425075e-01 -3.89875621e-01 -4.34798956e-01\n",
      " -3.70391980e-02 -2.43550315e-01  2.05387652e-01  2.46884286e-01\n",
      "  4.89583611e-03 -3.69918078e-01  9.34975147e-02  4.04679775e-03\n",
      "  8.12904239e-01  2.66393274e-01 -4.97345626e-01 -1.41223878e-01\n",
      "  1.50435314e-01 -1.31580368e-01  6.58853292e-01 -5.27025163e-02\n",
      " -4.10452858e-03 -9.04222429e-02  2.94133365e-01  3.39579046e-01\n",
      " -1.34734064e-01 -4.19760823e-01  3.15439165e-01  4.41406548e-01\n",
      " -4.02109474e-02 -7.15969026e-01 -3.34107846e-01 -4.22698170e-01\n",
      " -6.04275942e-01 -5.73777482e-02  4.39845800e-01  4.09981608e-02\n",
      "  4.30673569e-01 -6.31220222e-01 -2.86812425e-01  1.63492635e-01\n",
      "  1.74737513e-01 -7.62935579e-02 -4.59994286e-01 -9.39935446e-02\n",
      "  1.52730078e-01 -5.48921168e-01 -2.39829287e-01  5.13020009e-02\n",
      "  2.21417606e-01 -5.58542788e-01  7.46832341e-02 -4.83855635e-01\n",
      "  2.45325208e-01  2.94230193e-01  1.19187534e-02 -9.39828306e-02\n",
      "  4.02644694e-01 -3.00280482e-01  6.10149428e-02 -6.23485073e-02\n",
      " -1.25979856e-01 -4.19769764e-01 -3.22931468e-01  9.32773203e-03\n",
      "  1.07985273e-01  1.31966397e-01  8.27725172e-01  1.36010289e-01\n",
      "  1.23753041e-01  1.33102834e-01 -1.29576251e-02 -1.69313177e-01\n",
      "  3.20993930e-01 -1.03110559e-02  1.26445219e-02 -6.15191638e-01\n",
      " -2.97049850e-01 -4.35688168e-01 -6.63516298e-03  2.40483880e-01\n",
      " -8.81768465e-02  1.25457913e-01 -1.22379087e-01 -1.59513831e-01\n",
      " -3.60689133e-01 -1.74713209e-01  8.02531242e-02  1.30935892e-01\n",
      " -6.74661756e-01  4.12899822e-01  3.70079949e-02  2.02961266e-04\n",
      "  4.71488237e-02  3.03656518e-01 -4.94557098e-02  2.74646163e-01\n",
      " -9.38750684e-01  2.61322290e-01 -4.02053326e-01 -1.44673616e-01\n",
      "  4.92211938e-01 -1.56047344e-01  5.65062582e-01  7.41071478e-02\n",
      " -3.96829098e-01 -1.56895928e-02  2.76049465e-01 -3.80816400e-01\n",
      "  7.01585710e-02  6.14801496e-02  3.89001369e-01  1.32122800e-01\n",
      " -4.59357381e-01 -5.63021228e-02  5.90034947e-02 -2.68262029e-01\n",
      " -3.79327685e-01  2.66084254e-01 -3.02794129e-01  2.09710360e-01\n",
      " -3.75791699e-01 -7.91229963e-01 -1.00000000e+00 -1.59077376e-01\n",
      " -1.93458125e-01  2.60272294e-01  2.06172451e-01 -2.08266094e-01\n",
      " -2.80877128e-02 -7.64927715e-02  1.48782119e-01 -2.41336852e-01\n",
      "  1.76995561e-01 -5.48068762e-01  5.25098443e-02 -3.35095525e-01\n",
      "  1.74023807e-01 -6.10027686e-02  1.22856677e-01  8.59395564e-01\n",
      " -1.83048714e-02  2.62422740e-01 -2.68943250e-01 -5.94118536e-01\n",
      "  1.03573799e-02  6.54065982e-03  3.20666492e-01  1.11031950e-01\n",
      " -6.51894093e-01  3.23318928e-01 -6.78659603e-02 -1.65517539e-01\n",
      "  3.63003880e-01 -6.67627394e-01 -5.77198148e-01  1.62572965e-01\n",
      "  2.34039932e-01  1.75363228e-01  3.06131870e-01 -2.37391487e-01\n",
      "  1.51344925e-01  2.86112994e-01 -1.50954604e-01 -6.50178790e-01\n",
      "  5.90681434e-02 -5.82847297e-01  8.79264772e-01 -3.27155679e-01\n",
      " -5.66085815e-01 -6.45164028e-02  1.54372677e-01  7.27613717e-02\n",
      "  3.18186074e-01  5.85240871e-02  4.23690528e-02 -5.67469478e-01\n",
      " -5.24902225e-01 -2.50651419e-01  1.49328426e-01 -1.64675891e-01\n",
      "  6.29815683e-02  3.04936558e-01 -6.50527060e-01  5.16557097e-01\n",
      " -8.92366886e-01 -3.50334011e-02 -3.44135702e-01 -1.74949989e-02\n",
      " -2.28839740e-01 -3.84497225e-01 -6.14276111e-01 -4.58852857e-01\n",
      " -2.27396473e-01  2.78697968e-01 -5.83762288e-01 -6.83048964e-01\n",
      "  2.17615008e-01  2.70633072e-01 -3.18407476e-01  2.46928483e-01\n",
      " -6.67420626e-02 -5.77416003e-01 -1.19875193e-01 -1.14082806e-01\n",
      "  3.93596813e-02  3.04349750e-01 -2.15374514e-01  3.02604198e-01\n",
      "  2.51848400e-01 -2.71890134e-01 -7.82030344e-01 -8.30606401e-01\n",
      " -2.77353466e-01  6.06984571e-02 -2.80445874e-01  1.38133764e-01\n",
      "  2.24301696e-01  2.49824822e-01  3.14051270e-01  2.30036378e-01\n",
      "  2.17898905e-01  9.87507999e-02 -2.81559944e-01  2.52407223e-01\n",
      " -6.95103109e-02 -1.25439279e-02 -3.56466711e-01 -3.56794327e-01\n",
      " -4.20722902e-01 -2.55128562e-01 -1.20235365e-02 -3.05305302e-01\n",
      " -2.18701899e-01 -2.76518285e-01  3.10099840e-01 -1.41506866e-01\n",
      "  4.38842058e-01 -2.73132354e-01  1.10928044e-02  3.63901645e-01\n",
      " -7.04929307e-02 -1.09846197e-01 -3.69351029e-01  3.49846095e-01\n",
      " -1.30613923e-01  1.69125661e-01 -1.91046312e-01 -5.07004797e-01]\n",
      "[0. 0. 0. 0. 0. 0. 0. 0. 0. 0. 0. 0. 0. 0. 0. 0. 0. 0. 0. 0. 0. 0. 0. 0.\n",
      " 0. 0. 0. 0. 0. 0. 0. 0. 0. 0. 0. 0. 0. 0. 0. 0. 0. 0. 0. 0. 0. 0. 0. 0.\n",
      " 0. 0. 0. 0. 0. 0. 0. 0. 0. 0. 0. 0. 0. 0. 0. 0. 0. 0. 0. 0. 0. 0. 0. 0.\n",
      " 0. 0. 0. 0. 0. 0. 0. 0. 0. 0. 0. 0. 0. 0. 0. 0. 0. 0. 0. 0. 0. 0. 0. 0.\n",
      " 0. 0. 0. 0. 0. 0. 0. 0. 0. 0. 0. 0. 0. 0. 0. 0. 0. 0. 0. 0. 0. 0. 0. 0.\n",
      " 0. 0. 0. 0. 0. 0. 0. 0. 0. 0. 0. 0. 0. 0. 0. 0. 0. 0. 0. 0. 0. 0. 0. 0.\n",
      " 0. 0. 0. 0. 0. 0. 0. 0. 0. 0. 0. 0. 0. 0. 0. 0. 0. 0. 0. 0. 0. 0. 0. 0.\n",
      " 0. 0. 0. 0. 0. 0. 0. 0. 0. 0. 0. 0. 0. 0. 0. 0. 0. 0. 0. 0. 0. 0. 0. 0.\n",
      " 0. 0. 0. 0. 0. 0. 0. 0. 0. 0. 0. 0. 0. 0. 0. 0. 0. 0. 0. 0. 0. 0. 0. 0.\n",
      " 0. 0. 0. 0. 0. 0. 0. 0. 0. 0. 0. 0. 0. 0. 0. 0. 0. 0. 0. 0. 0. 0. 0. 0.\n",
      " 0. 0. 0. 0. 0. 0. 0. 0. 0. 0. 0. 0. 0. 0. 0. 0. 0. 0. 0. 0. 0. 0. 0. 0.\n",
      " 0. 0. 0. 0. 0. 0. 0. 0. 0. 0. 0. 0. 0. 0. 0. 0. 0. 0. 0. 0. 0. 0. 0. 0.\n",
      " 0. 0. 0. 0. 0. 0. 0. 0. 0. 0. 0. 0.]\n"
     ]
    }
   ],
   "source": [
    "n = len(price)\n",
    "price_list = price['close'].tolist()\n",
    "docscaler = MinMaxScaler(feature_range=(-1, 1))\n",
    "\n",
    "docvecs = tsla_prices['Doc Vector'].to_numpy()\n",
    "minval, maxval = 0, 0\n",
    "for i in range(n):\n",
    "    if not isinstance(docvecs[i], (list,pd.Series,np.ndarray)):\n",
    "        docvecs[i] = np.zeros(300)\n",
    "    else:\n",
    "        # note: this method of normalization likely loses some data since it is refit for every sample\n",
    "        # but I didn't have enough time left to do something more thorough\n",
    "        docvecs[i] = docscaler.fit_transform(docvecs[i].reshape(-1, 1)).reshape(300,)\n",
    "\n",
    "# docvecs = docvecs.reshape(1260, 300)\n",
    "docvecs = docvecs.tolist()\n",
    "docvecs = np.array(docvecs)\n",
    "print(docvecs.shape)\n",
    "print(docvecs[0])\n",
    "print(docvecs[1])\n",
    "\n"
   ],
   "metadata": {
    "collapsed": false,
    "pycharm": {
     "name": "#%%\n"
    }
   }
  },
  {
   "cell_type": "code",
   "execution_count": 167,
   "outputs": [
    {
     "name": "stdout",
     "output_type": "stream",
     "text": [
      "301\n",
      "[-9.56768019e-01 -1.75638944e-02  3.87618691e-02  8.73117596e-02\n",
      "  2.77435154e-01 -8.11077431e-02 -6.50198981e-02  1.85869813e-01\n",
      "  4.18952614e-01  6.43534437e-02 -3.21677104e-02 -3.06952558e-02\n",
      " -2.22989798e-01  3.41111571e-01  1.06559888e-01 -3.42815556e-02\n",
      " -4.85008925e-01  4.27968323e-01  2.46909201e-01 -4.79804307e-01\n",
      "  1.47895701e-02 -5.55715978e-01 -6.03959739e-01  6.53218627e-01\n",
      " -5.32940030e-01  1.00000000e+00  4.40795124e-01 -1.91278353e-01\n",
      " -1.62204176e-01 -1.08288251e-01 -1.82405055e-01  5.84190667e-01\n",
      " -4.96096879e-01  4.49462116e-01  3.00554186e-01 -1.55929387e-01\n",
      "  6.68176293e-01 -5.04411817e-01  2.54654020e-01  1.46798998e-01\n",
      " -7.91576281e-02 -2.11259022e-01 -5.61412096e-01 -3.83153945e-01\n",
      " -2.72830665e-01 -2.34086849e-02 -3.47140104e-01 -1.33050099e-01\n",
      " -2.01050565e-01  4.55972850e-01 -1.49987880e-02  4.60443497e-02\n",
      "  9.75347310e-03  5.41220725e-01  3.33425075e-01 -3.89875621e-01\n",
      " -4.34798956e-01 -3.70391980e-02 -2.43550315e-01  2.05387652e-01\n",
      "  2.46884286e-01  4.89583611e-03 -3.69918078e-01  9.34975147e-02\n",
      "  4.04679775e-03  8.12904239e-01  2.66393274e-01 -4.97345626e-01\n",
      " -1.41223878e-01  1.50435314e-01 -1.31580368e-01  6.58853292e-01\n",
      " -5.27025163e-02 -4.10452858e-03 -9.04222429e-02  2.94133365e-01\n",
      "  3.39579046e-01 -1.34734064e-01 -4.19760823e-01  3.15439165e-01\n",
      "  4.41406548e-01 -4.02109474e-02 -7.15969026e-01 -3.34107846e-01\n",
      " -4.22698170e-01 -6.04275942e-01 -5.73777482e-02  4.39845800e-01\n",
      "  4.09981608e-02  4.30673569e-01 -6.31220222e-01 -2.86812425e-01\n",
      "  1.63492635e-01  1.74737513e-01 -7.62935579e-02 -4.59994286e-01\n",
      " -9.39935446e-02  1.52730078e-01 -5.48921168e-01 -2.39829287e-01\n",
      "  5.13020009e-02  2.21417606e-01 -5.58542788e-01  7.46832341e-02\n",
      " -4.83855635e-01  2.45325208e-01  2.94230193e-01  1.19187534e-02\n",
      " -9.39828306e-02  4.02644694e-01 -3.00280482e-01  6.10149428e-02\n",
      " -6.23485073e-02 -1.25979856e-01 -4.19769764e-01 -3.22931468e-01\n",
      "  9.32773203e-03  1.07985273e-01  1.31966397e-01  8.27725172e-01\n",
      "  1.36010289e-01  1.23753041e-01  1.33102834e-01 -1.29576251e-02\n",
      " -1.69313177e-01  3.20993930e-01 -1.03110559e-02  1.26445219e-02\n",
      " -6.15191638e-01 -2.97049850e-01 -4.35688168e-01 -6.63516298e-03\n",
      "  2.40483880e-01 -8.81768465e-02  1.25457913e-01 -1.22379087e-01\n",
      " -1.59513831e-01 -3.60689133e-01 -1.74713209e-01  8.02531242e-02\n",
      "  1.30935892e-01 -6.74661756e-01  4.12899822e-01  3.70079949e-02\n",
      "  2.02961266e-04  4.71488237e-02  3.03656518e-01 -4.94557098e-02\n",
      "  2.74646163e-01 -9.38750684e-01  2.61322290e-01 -4.02053326e-01\n",
      " -1.44673616e-01  4.92211938e-01 -1.56047344e-01  5.65062582e-01\n",
      "  7.41071478e-02 -3.96829098e-01 -1.56895928e-02  2.76049465e-01\n",
      " -3.80816400e-01  7.01585710e-02  6.14801496e-02  3.89001369e-01\n",
      "  1.32122800e-01 -4.59357381e-01 -5.63021228e-02  5.90034947e-02\n",
      " -2.68262029e-01 -3.79327685e-01  2.66084254e-01 -3.02794129e-01\n",
      "  2.09710360e-01 -3.75791699e-01 -7.91229963e-01 -1.00000000e+00\n",
      " -1.59077376e-01 -1.93458125e-01  2.60272294e-01  2.06172451e-01\n",
      " -2.08266094e-01 -2.80877128e-02 -7.64927715e-02  1.48782119e-01\n",
      " -2.41336852e-01  1.76995561e-01 -5.48068762e-01  5.25098443e-02\n",
      " -3.35095525e-01  1.74023807e-01 -6.10027686e-02  1.22856677e-01\n",
      "  8.59395564e-01 -1.83048714e-02  2.62422740e-01 -2.68943250e-01\n",
      " -5.94118536e-01  1.03573799e-02  6.54065982e-03  3.20666492e-01\n",
      "  1.11031950e-01 -6.51894093e-01  3.23318928e-01 -6.78659603e-02\n",
      " -1.65517539e-01  3.63003880e-01 -6.67627394e-01 -5.77198148e-01\n",
      "  1.62572965e-01  2.34039932e-01  1.75363228e-01  3.06131870e-01\n",
      " -2.37391487e-01  1.51344925e-01  2.86112994e-01 -1.50954604e-01\n",
      " -6.50178790e-01  5.90681434e-02 -5.82847297e-01  8.79264772e-01\n",
      " -3.27155679e-01 -5.66085815e-01 -6.45164028e-02  1.54372677e-01\n",
      "  7.27613717e-02  3.18186074e-01  5.85240871e-02  4.23690528e-02\n",
      " -5.67469478e-01 -5.24902225e-01 -2.50651419e-01  1.49328426e-01\n",
      " -1.64675891e-01  6.29815683e-02  3.04936558e-01 -6.50527060e-01\n",
      "  5.16557097e-01 -8.92366886e-01 -3.50334011e-02 -3.44135702e-01\n",
      " -1.74949989e-02 -2.28839740e-01 -3.84497225e-01 -6.14276111e-01\n",
      " -4.58852857e-01 -2.27396473e-01  2.78697968e-01 -5.83762288e-01\n",
      " -6.83048964e-01  2.17615008e-01  2.70633072e-01 -3.18407476e-01\n",
      "  2.46928483e-01 -6.67420626e-02 -5.77416003e-01 -1.19875193e-01\n",
      " -1.14082806e-01  3.93596813e-02  3.04349750e-01 -2.15374514e-01\n",
      "  3.02604198e-01  2.51848400e-01 -2.71890134e-01 -7.82030344e-01\n",
      " -8.30606401e-01 -2.77353466e-01  6.06984571e-02 -2.80445874e-01\n",
      "  1.38133764e-01  2.24301696e-01  2.49824822e-01  3.14051270e-01\n",
      "  2.30036378e-01  2.17898905e-01  9.87507999e-02 -2.81559944e-01\n",
      "  2.52407223e-01 -6.95103109e-02 -1.25439279e-02 -3.56466711e-01\n",
      " -3.56794327e-01 -4.20722902e-01 -2.55128562e-01 -1.20235365e-02\n",
      " -3.05305302e-01 -2.18701899e-01 -2.76518285e-01  3.10099840e-01\n",
      " -1.41506866e-01  4.38842058e-01 -2.73132354e-01  1.10928044e-02\n",
      "  3.63901645e-01 -7.04929307e-02 -1.09846197e-01 -3.69351029e-01\n",
      "  3.49846095e-01 -1.30613923e-01  1.69125661e-01 -1.91046312e-01\n",
      " -5.07004797e-01]\n"
     ]
    }
   ],
   "source": [
    "x = np.concatenate((price, docvecs), axis=1)\n",
    "print(len(x[0]))\n",
    "print(x[0])\n"
   ],
   "metadata": {
    "collapsed": false,
    "pycharm": {
     "name": "#%%\n"
    }
   }
  },
  {
   "cell_type": "markdown",
   "metadata": {
    "collapsed": false
   },
   "source": [
    "Slice data and construct training/test sets\n",
    "\n",
    "IDEA: convert UTC timestamp to date first, then aggregate\n",
    "\n",
    "also test with sentiment api data"
   ]
  },
  {
   "cell_type": "code",
   "execution_count": 169,
   "metadata": {
    "collapsed": false,
    "pycharm": {
     "name": "#%%\n"
    }
   },
   "outputs": [
    {
     "name": "stdout",
     "output_type": "stream",
     "text": [
      "x_train.shape =  (1000, 9, 301)\n",
      "y_train.shape =  (1000, 1)\n",
      "x_test.shape =  (250, 9, 301)\n",
      "y_test.shape =  (250, 1)\n"
     ]
    }
   ],
   "source": [
    "def split_data(stock, lookback):\n",
    "    data_raw = np.array(stock)  # convert to numpy array\n",
    "    data = []\n",
    "\n",
    "    # create all possible sequences of length seq_len\n",
    "    for index in range(len(data_raw) - lookback):\n",
    "        data.append(data_raw[index: index + lookback])\n",
    "\n",
    "    data = np.array(data)\n",
    "    test_set_size = int(np.round(0.2 * data.shape[0]))\n",
    "    train_set_size = data.shape[0] - (test_set_size)\n",
    "\n",
    "    x_train = data[:train_set_size, :-1, :]\n",
    "    y_train = data[:train_set_size, -1, :1]\n",
    "\n",
    "    x_test = data[train_set_size:, :-1]\n",
    "    y_test = data[train_set_size:, -1, :1]\n",
    "\n",
    "    return [x_train, y_train, x_test, y_test]\n",
    "\n",
    "\n",
    "lookback = 10  # choose sequence length\n",
    "x_train, y_train, x_test, y_test = split_data(x, lookback)\n",
    "\n",
    "print('x_train.shape = ',x_train.shape)\n",
    "print('y_train.shape = ',y_train.shape)\n",
    "print('x_test.shape = ',x_test.shape)\n",
    "print('y_test.shape = ',y_test.shape)\n",
    "\n",
    "x_train = torch.from_numpy(x_train).type(torch.Tensor)\n",
    "x_test = torch.from_numpy(x_test).type(torch.Tensor)\n",
    "y_train_lstm = torch.from_numpy(y_train).type(torch.Tensor)\n",
    "y_test_lstm = torch.from_numpy(y_test).type(torch.Tensor)\n",
    "# y_train_gru = torch.from_numpy(y_train).type(torch.Tensor)\n",
    "# y_test_gru = torch.from_numpy(y_test).type(torch.Tensor)"
   ]
  },
  {
   "cell_type": "code",
   "execution_count": null,
   "outputs": [],
   "source": [
    "y_train_categorical = [int(y_train_lstm[i]) for i in range(len(y_train_lstm))]\n"
   ],
   "metadata": {
    "collapsed": false,
    "pycharm": {
     "name": "#%%\n"
    }
   }
  },
  {
   "cell_type": "markdown",
   "metadata": {
    "collapsed": false
   },
   "source": [
    "Define model architecture"
   ]
  },
  {
   "cell_type": "code",
   "execution_count": 189,
   "metadata": {
    "collapsed": false,
    "pycharm": {
     "name": "#%%\n"
    }
   },
   "outputs": [],
   "source": [
    "class LSTM(nn.Module):\n",
    "    def __init__(self, input_dim, hidden_dim, num_layers, output_dim):\n",
    "        super(LSTM, self).__init__()\n",
    "        self.hidden_dim = hidden_dim\n",
    "        self.num_layers = num_layers\n",
    "\n",
    "        self.lstm = nn.LSTM(input_dim, hidden_dim, num_layers, batch_first=True)\n",
    "        self.fc = nn.Linear(hidden_dim, output_dim)\n",
    "\n",
    "    def forward(self, x):\n",
    "        h0 = torch.zeros(self.num_layers, x.size(0), self.hidden_dim).requires_grad_()\n",
    "        c0 = torch.zeros(self.num_layers, x.size(0), self.hidden_dim).requires_grad_()\n",
    "        out, (hn, cn) = self.lstm(x, (h0.detach(), c0.detach()))\n",
    "        out = self.fc(out[:, -1, :])\n",
    "        return out"
   ]
  },
  {
   "cell_type": "code",
   "execution_count": 190,
   "metadata": {
    "collapsed": false,
    "pycharm": {
     "name": "#%%\n"
    }
   },
   "outputs": [],
   "source": [
    "input_dim = 301\n",
    "hidden_dim = 128\n",
    "num_layers = 2\n",
    "output_dim = 1\n",
    "num_epochs = 100\n",
    "\n",
    "model = LSTM(input_dim=input_dim, hidden_dim=hidden_dim, output_dim=output_dim, num_layers=num_layers)\n",
    "criterion = torch.nn.MSELoss(reduction='mean')\n",
    "optimiser = torch.optim.Adam(model.parameters(), lr=0.01)"
   ]
  },
  {
   "cell_type": "markdown",
   "metadata": {
    "collapsed": false
   },
   "source": [
    "Train model over 100 epochs"
   ]
  },
  {
   "cell_type": "code",
   "execution_count": 191,
   "metadata": {
    "collapsed": false,
    "pycharm": {
     "name": "#%%\n"
    }
   },
   "outputs": [
    {
     "name": "stdout",
     "output_type": "stream",
     "text": [
      "Epoch  0 MSE:  0.7060477137565613\n",
      "Epoch  1 MSE:  0.08226928114891052\n",
      "Epoch  2 MSE:  0.5204430222511292\n",
      "Epoch  3 MSE:  1.0688422918319702\n",
      "Epoch  4 MSE:  0.6677717566490173\n",
      "Epoch  5 MSE:  0.4177211821079254\n",
      "Epoch  6 MSE:  0.20421500504016876\n",
      "Epoch  7 MSE:  0.20761975646018982\n",
      "Epoch  8 MSE:  0.1650606393814087\n",
      "Epoch  9 MSE:  0.0861530601978302\n",
      "Epoch  10 MSE:  0.08510740846395493\n",
      "Epoch  11 MSE:  0.09034072607755661\n",
      "Epoch  12 MSE:  0.07702551037073135\n",
      "Epoch  13 MSE:  0.05274895578622818\n",
      "Epoch  14 MSE:  0.03360177204012871\n",
      "Epoch  15 MSE:  0.029439013451337814\n",
      "Epoch  16 MSE:  0.034374527633190155\n",
      "Epoch  17 MSE:  0.03317828103899956\n",
      "Epoch  18 MSE:  0.023792611435055733\n",
      "Epoch  19 MSE:  0.015795137733221054\n",
      "Epoch  20 MSE:  0.014895669184625149\n",
      "Epoch  21 MSE:  0.018397174775600433\n",
      "Epoch  22 MSE:  0.020424751564860344\n",
      "Epoch  23 MSE:  0.018280507996678352\n",
      "Epoch  24 MSE:  0.01354143489152193\n",
      "Epoch  25 MSE:  0.009475587867200375\n",
      "Epoch  26 MSE:  0.008231721818447113\n",
      "Epoch  27 MSE:  0.009396257810294628\n",
      "Epoch  28 MSE:  0.010651576332747936\n",
      "Epoch  29 MSE:  0.01019128505140543\n",
      "Epoch  30 MSE:  0.008342449553310871\n",
      "Epoch  31 MSE:  0.006673105992376804\n",
      "Epoch  32 MSE:  0.006159089505672455\n",
      "Epoch  33 MSE:  0.006483624689280987\n",
      "Epoch  34 MSE:  0.006685300730168819\n",
      "Epoch  35 MSE:  0.006138200405985117\n",
      "Epoch  36 MSE:  0.004991416819393635\n",
      "Epoch  37 MSE:  0.003908841870725155\n",
      "Epoch  38 MSE:  0.0034587597474455833\n",
      "Epoch  39 MSE:  0.0036517209373414516\n",
      "Epoch  40 MSE:  0.003996244631707668\n",
      "Epoch  41 MSE:  0.004003370646387339\n",
      "Epoch  42 MSE:  0.003600838128477335\n",
      "Epoch  43 MSE:  0.0030719509813934565\n",
      "Epoch  44 MSE:  0.002721065189689398\n",
      "Epoch  45 MSE:  0.002629320602864027\n",
      "Epoch  46 MSE:  0.002648829249665141\n",
      "Epoch  47 MSE:  0.002584622008726001\n",
      "Epoch  48 MSE:  0.0023813482839614153\n",
      "Epoch  49 MSE:  0.002147975377738476\n",
      "Epoch  50 MSE:  0.00202188896946609\n",
      "Epoch  51 MSE:  0.0020247739739716053\n",
      "Epoch  52 MSE:  0.0020521841943264008\n",
      "Epoch  53 MSE:  0.001989983953535557\n",
      "Epoch  54 MSE:  0.0018233050359413028\n",
      "Epoch  55 MSE:  0.0016334261745214462\n",
      "Epoch  56 MSE:  0.0015093307010829449\n",
      "Epoch  57 MSE:  0.0014723195927217603\n",
      "Epoch  58 MSE:  0.0014737448655068874\n",
      "Epoch  59 MSE:  0.0014505368890240788\n",
      "Epoch  60 MSE:  0.001380467088893056\n",
      "Epoch  61 MSE:  0.0012914030812680721\n",
      "Epoch  62 MSE:  0.0012252050219103694\n",
      "Epoch  63 MSE:  0.0011938721872866154\n",
      "Epoch  64 MSE:  0.0011700191535055637\n",
      "Epoch  65 MSE:  0.0011217794381082058\n",
      "Epoch  66 MSE:  0.00105190253816545\n",
      "Epoch  67 MSE:  0.0009932401590049267\n",
      "Epoch  68 MSE:  0.0009688691352494061\n",
      "Epoch  69 MSE:  0.0009672787273302674\n",
      "Epoch  70 MSE:  0.0009575292351655662\n",
      "Epoch  71 MSE:  0.000921752187423408\n",
      "Epoch  72 MSE:  0.0008702361374162138\n",
      "Epoch  73 MSE:  0.0008276099688373506\n",
      "Epoch  74 MSE:  0.0008067776216194034\n",
      "Epoch  75 MSE:  0.0007975496118888259\n",
      "Epoch  76 MSE:  0.0007812211406417191\n",
      "Epoch  77 MSE:  0.0007531347800977528\n",
      "Epoch  78 MSE:  0.000725842546671629\n",
      "Epoch  79 MSE:  0.0007107908604666591\n",
      "Epoch  80 MSE:  0.0007036271272227168\n",
      "Epoch  81 MSE:  0.0006909343064762652\n",
      "Epoch  82 MSE:  0.0006675182958133519\n",
      "Epoch  83 MSE:  0.0006421005236916244\n",
      "Epoch  84 MSE:  0.0006258291541598737\n",
      "Epoch  85 MSE:  0.0006190381245687604\n",
      "Epoch  86 MSE:  0.0006122630438767374\n",
      "Epoch  87 MSE:  0.0005986380856484175\n",
      "Epoch  88 MSE:  0.0005812105373479426\n",
      "Epoch  89 MSE:  0.0005671875551342964\n",
      "Epoch  90 MSE:  0.0005583966849371791\n",
      "Epoch  91 MSE:  0.0005502391140908003\n",
      "Epoch  92 MSE:  0.0005388181307353079\n",
      "Epoch  93 MSE:  0.0005259274039417505\n",
      "Epoch  94 MSE:  0.0005158835556358099\n",
      "Epoch  95 MSE:  0.0005093702930025756\n",
      "Epoch  96 MSE:  0.0005027592414990067\n",
      "Epoch  97 MSE:  0.0004932524170726538\n",
      "Epoch  98 MSE:  0.0004823545750696212\n",
      "Epoch  99 MSE:  0.00047331684618256986\n",
      "Training time: 21.460500240325928\n"
     ]
    }
   ],
   "source": [
    "hist = np.zeros(num_epochs)\n",
    "start_time = time.time()\n",
    "lstm = []\n",
    "for t in range(num_epochs):\n",
    "    y_train_pred = model(x_train)\n",
    "    loss = criterion(y_train_pred, y_train_lstm)\n",
    "    print(\"Epoch \", t, \"MSE: \", loss.item())\n",
    "    hist[t] = loss.item()\n",
    "    optimiser.zero_grad()\n",
    "    loss.backward()\n",
    "    optimiser.step()\n",
    "\n",
    "training_time = time.time() - start_time\n",
    "print(\"Training time: {}\".format(training_time))"
   ]
  },
  {
   "cell_type": "markdown",
   "metadata": {
    "collapsed": false
   },
   "source": [
    "Evaluate training and test accuracy\n"
   ]
  },
  {
   "cell_type": "code",
   "execution_count": 192,
   "metadata": {
    "collapsed": false,
    "pycharm": {
     "name": "#%%\n"
    }
   },
   "outputs": [
    {
     "name": "stdout",
     "output_type": "stream",
     "text": [
      "Test MSE:  0.7567235827445984\n",
      "[[  61.438]\n",
      " [  64.252]\n",
      " [  65.044]\n",
      " ...\n",
      " [ 977.2  ]\n",
      " [1008.78 ]\n",
      " [1005.05 ]]\n"
     ]
    },
    {
     "data": {
      "text/plain": "<Figure size 432x288 with 1 Axes>",
      "image/png": "[encoded data removed]"
     },
     "metadata": {
      "needs_background": "light"
     },
     "output_type": "display_data"
    }
   ],
   "source": [
    "y_train_pred = model(x_train)  # forward\n",
    "y_test_pred = model(x_test)\n",
    "\n",
    "test_loss = criterion(y_test_pred, y_test_lstm)\n",
    "print(\"Test MSE: \", test_loss.item())\n",
    "\n",
    "y_train_unscaled = scaler.inverse_transform(y_train_pred.tolist())\n",
    "y_test_unscaled = scaler.inverse_transform(y_test_pred.tolist())\n",
    "\n",
    "# y_all_pred = y_train_pred + y_test_pred\n",
    "y_gt = tsla_prices[['close']].to_numpy()[lookback:]\n",
    "print(y_gt)\n",
    "x_axis = range(len(y_train_pred))\n",
    "\n",
    "# print(max(y_all_pred))\n",
    "# unscaled_pred = scaler.inverse_transform(y_all_pred)\n",
    "# print(max(unscaled_pred))\n",
    "train_len = len(y_train_unscaled)\n",
    "test_len = len(y_test_unscaled)\n",
    "\n",
    "plt.plot(range(len(y_gt)), y_gt)\n",
    "plt.plot(range(train_len), y_train_unscaled)\n",
    "plt.plot(range(train_len, train_len + test_len), y_test_unscaled)\n",
    "\n",
    "# plt.plot(range(test_len), y_gt[train_len:])\n",
    "# plt.plot(range(test_len), y_test_unscaled)\n",
    "\n",
    "plt.show()\n"
   ]
  }
 ],
 "metadata": {
  "kernelspec": {
   "display_name": "Python 3",
   "language": "python",
   "name": "python3"
  },
  "language_info": {
   "codemirror_mode": {
    "name": "ipython",
    "version": 3
   },
   "file_extension": ".py",
   "mimetype": "text/x-python",
   "name": "python",
   "nbconvert_exporter": "python",
   "pygments_lexer": "ipython3",
   "version": "3.9.12"
  }
 },
 "nbformat": 4,
 "nbformat_minor": 0
}