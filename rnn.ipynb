{
 "cells": [
  {
   "cell_type": "markdown",
   "metadata": {
    "collapsed": true,
    "pycharm": {
     "name": "#%% md\n"
    }
   },
   "source": [
    "### ISA 414 Final Project - Stock Predictions through Unsupervised Sentiment Analysis\n",
    "##### Ethan Buege, Jorge Nadjar, Mac Magyaros\n",
    "\n",
    "Libraries being used:\n",
    "- Pandas\n",
    "- Numpy\n",
    "- PSAW (Python Pushshift.io API Wrapper)\n",
    "- PRAW (Python Reddit API Wrapper)\n",
    "- PyTorch\n",
    "- sklearn"
   ]
  },
  {
   "cell_type": "code",
   "execution_count": 639,
   "metadata": {
    "collapsed": false,
    "pycharm": {
     "name": "#%%\n"
    }
   },
   "outputs": [],
   "source": [
    "# standard python libraries\n",
    "import time\n",
    "import logging\n",
    "\n",
    "# data handling\n",
    "import pandas as pd\n",
    "import numpy as np\n",
    "import pickle\n",
    "\n",
    "\n",
    "# scikit learn\n",
    "import gensim\n",
    "from sklearn.preprocessing import MinMaxScaler\n",
    "from sklearn.metrics import ConfusionMatrixDisplay\n",
    "\n",
    "# pytorch\n",
    "import torch\n",
    "import torch.nn as nn\n",
    "\n",
    "# visualization\n",
    "import matplotlib.pyplot as plt\n",
    "\n",
    "logging.basicConfig(format='%(asctime)s : %(levelname)s : %(message)s', level=logging.INFO)\n",
    "use_cuda = torch.cuda.is_available()"
   ]
  },
  {
   "cell_type": "markdown",
   "source": [
    "Set desired ticker (from stocks we have data for) and run all to build, train, and evaluate RNN model <br>\n",
    "note: you must have the 4 files below already saved to disk, but those 4 are all you need"
   ],
   "metadata": {
    "collapsed": false
   }
  },
  {
   "cell_type": "code",
   "execution_count": 640,
   "metadata": {},
   "outputs": [],
   "source": [
    "ticker = 'TSLA'\n",
    "\n",
    "vectorized_posts = pickle.load(open(f'{ticker}_vectorized_posts.p', \"rb\"))\n",
    "daily_upvotes = pickle.load(open(f'{ticker}_daily_upvotes.p', \"rb\"))\n",
    "daily_volume = pickle.load(open(f'{ticker}_daily_volume.p', \"rb\"))\n",
    "prices = pd.read_csv(f'{ticker}_prices.csv')"
   ]
  },
  {
   "cell_type": "markdown",
   "source": [
    "### Addition - Jorge"
   ],
   "metadata": {
    "collapsed": false
   }
  },
  {
   "cell_type": "code",
   "execution_count": 641,
   "metadata": {},
   "outputs": [
    {
     "data": {
      "text/plain": "            from      open      high       low     close    volume  \\\n0     2017-04-24    61.844    62.110   61.2043    61.606  25417525   \n1     2017-04-25    61.600    62.796   61.1720    62.758  33688540   \n2     2017-04-26    62.474    62.900   61.8000    62.034  23475220   \n3     2017-04-27    62.338    62.618   61.5000    61.726  17342845   \n4     2017-04-28    61.966    62.960   61.6000    62.814  22527390   \n...          ...       ...       ...       ...       ...       ...   \n1255  2022-04-18   989.030  1014.920  973.4100  1004.290  17237387   \n1256  2022-04-19  1005.060  1034.940  995.3250  1028.150  16604744   \n1257  2022-04-20  1030.000  1034.000  975.2501   977.200  23534922   \n1258  2022-04-21  1074.730  1092.220  996.4150  1008.780  35136565   \n1259  2022-04-22  1014.910  1034.850  994.0001  1005.050  23226886   \n\n      afterHours  preMarket  \\\n0        61.5460     62.000   \n1        62.7500     61.700   \n2        62.0020     62.628   \n3        61.8200     61.980   \n4        62.9200     61.958   \n...          ...        ...   \n1255   1013.0200    987.250   \n1256   1018.0000   1008.180   \n1257   1031.1800   1015.240   \n1258   1011.3999   1031.610   \n1259   1000.3000   1011.400   \n\n                                                 docvec  upvotes  post volume  \n0     [1.726876, 2.007498, -0.099510744, -0.20814693...    167.0          1.0  \n1                                                   NaN      NaN          NaN  \n2                                                   NaN      NaN          NaN  \n3     [-1.8342429, 3.2865958, -1.2044606, 1.9065353,...     43.0          2.0  \n4                                                   NaN      NaN          NaN  \n...                                                 ...      ...          ...  \n1255                                                NaN      NaN          NaN  \n1256                                                NaN      NaN          NaN  \n1257                                                NaN      NaN          NaN  \n1258                                                NaN      NaN          NaN  \n1259                                                NaN      NaN          NaN  \n\n[1260 rows x 11 columns]",
      "text/html": "<div>\n<style scoped>\n    .dataframe tbody tr th:only-of-type {\n        vertical-align: middle;\n    }\n\n    .dataframe tbody tr th {\n        vertical-align: top;\n    }\n\n    .dataframe thead th {\n        text-align: right;\n    }\n</style>\n<table border=\"1\" class=\"dataframe\">\n  <thead>\n    <tr style=\"text-align: right;\">\n      <th></th>\n      <th>from</th>\n      <th>open</th>\n      <th>high</th>\n      <th>low</th>\n      <th>close</th>\n      <th>volume</th>\n      <th>afterHours</th>\n      <th>preMarket</th>\n      <th>docvec</th>\n      <th>upvotes</th>\n      <th>post volume</th>\n    </tr>\n  </thead>\n  <tbody>\n    <tr>\n      <th>0</th>\n      <td>2017-04-24</td>\n      <td>61.844</td>\n      <td>62.110</td>\n      <td>61.2043</td>\n      <td>61.606</td>\n      <td>25417525</td>\n      <td>61.5460</td>\n      <td>62.000</td>\n      <td>[1.726876, 2.007498, -0.099510744, -0.20814693...</td>\n      <td>167.0</td>\n      <td>1.0</td>\n    </tr>\n    <tr>\n      <th>1</th>\n      <td>2017-04-25</td>\n      <td>61.600</td>\n      <td>62.796</td>\n      <td>61.1720</td>\n      <td>62.758</td>\n      <td>33688540</td>\n      <td>62.7500</td>\n      <td>61.700</td>\n      <td>NaN</td>\n      <td>NaN</td>\n      <td>NaN</td>\n    </tr>\n    <tr>\n      <th>2</th>\n      <td>2017-04-26</td>\n      <td>62.474</td>\n      <td>62.900</td>\n      <td>61.8000</td>\n      <td>62.034</td>\n      <td>23475220</td>\n      <td>62.0020</td>\n      <td>62.628</td>\n      <td>NaN</td>\n      <td>NaN</td>\n      <td>NaN</td>\n    </tr>\n    <tr>\n      <th>3</th>\n      <td>2017-04-27</td>\n      <td>62.338</td>\n      <td>62.618</td>\n      <td>61.5000</td>\n      <td>61.726</td>\n      <td>17342845</td>\n      <td>61.8200</td>\n      <td>61.980</td>\n      <td>[-1.8342429, 3.2865958, -1.2044606, 1.9065353,...</td>\n      <td>43.0</td>\n      <td>2.0</td>\n    </tr>\n    <tr>\n      <th>4</th>\n      <td>2017-04-28</td>\n      <td>61.966</td>\n      <td>62.960</td>\n      <td>61.6000</td>\n      <td>62.814</td>\n      <td>22527390</td>\n      <td>62.9200</td>\n      <td>61.958</td>\n      <td>NaN</td>\n      <td>NaN</td>\n      <td>NaN</td>\n    </tr>\n    <tr>\n      <th>...</th>\n      <td>...</td>\n      <td>...</td>\n      <td>...</td>\n      <td>...</td>\n      <td>...</td>\n      <td>...</td>\n      <td>...</td>\n      <td>...</td>\n      <td>...</td>\n      <td>...</td>\n      <td>...</td>\n    </tr>\n    <tr>\n      <th>1255</th>\n      <td>2022-04-18</td>\n      <td>989.030</td>\n      <td>1014.920</td>\n      <td>973.4100</td>\n      <td>1004.290</td>\n      <td>17237387</td>\n      <td>1013.0200</td>\n      <td>987.250</td>\n      <td>NaN</td>\n      <td>NaN</td>\n      <td>NaN</td>\n    </tr>\n    <tr>\n      <th>1256</th>\n      <td>2022-04-19</td>\n      <td>1005.060</td>\n      <td>1034.940</td>\n      <td>995.3250</td>\n      <td>1028.150</td>\n      <td>16604744</td>\n      <td>1018.0000</td>\n      <td>1008.180</td>\n      <td>NaN</td>\n      <td>NaN</td>\n      <td>NaN</td>\n    </tr>\n    <tr>\n      <th>1257</th>\n      <td>2022-04-20</td>\n      <td>1030.000</td>\n      <td>1034.000</td>\n      <td>975.2501</td>\n      <td>977.200</td>\n      <td>23534922</td>\n      <td>1031.1800</td>\n      <td>1015.240</td>\n      <td>NaN</td>\n      <td>NaN</td>\n      <td>NaN</td>\n    </tr>\n    <tr>\n      <th>1258</th>\n      <td>2022-04-21</td>\n      <td>1074.730</td>\n      <td>1092.220</td>\n      <td>996.4150</td>\n      <td>1008.780</td>\n      <td>35136565</td>\n      <td>1011.3999</td>\n      <td>1031.610</td>\n      <td>NaN</td>\n      <td>NaN</td>\n      <td>NaN</td>\n    </tr>\n    <tr>\n      <th>1259</th>\n      <td>2022-04-22</td>\n      <td>1014.910</td>\n      <td>1034.850</td>\n      <td>994.0001</td>\n      <td>1005.050</td>\n      <td>23226886</td>\n      <td>1000.3000</td>\n      <td>1011.400</td>\n      <td>NaN</td>\n      <td>NaN</td>\n      <td>NaN</td>\n    </tr>\n  </tbody>\n</table>\n<p>1260 rows × 11 columns</p>\n</div>"
     },
     "execution_count": 641,
     "metadata": {},
     "output_type": "execute_result"
    }
   ],
   "source": [
    "keys_values = vectorized_posts.items()\n",
    "posts_string = {key.strftime('%Y-%m-%d'): value for key, value in keys_values}\n",
    "prices['docvec'] = prices['from'].map(posts_string)\n",
    "\n",
    "keys_values = daily_upvotes.items()\n",
    "posts_string = {key.strftime('%Y-%m-%d'): value for key, value in keys_values}\n",
    "prices['upvotes'] = prices['from'].map(posts_string)\n",
    "\n",
    "keys_values = daily_volume.items()\n",
    "posts_string = {key.strftime('%Y-%m-%d'): value for key, value in keys_values}\n",
    "prices['post volume'] = prices['from'].map(posts_string)\n",
    "\n",
    "prices"
   ]
  },
  {
   "cell_type": "markdown",
   "source": [
    "Scale close price, upvotes, and post volume to be between -1 and 1. <br>\n",
    "Failing to normalize inputs has severe adverse effects on model performance and accuracy"
   ],
   "metadata": {
    "collapsed": false
   }
  },
  {
   "cell_type": "code",
   "execution_count": 642,
   "metadata": {
    "collapsed": false,
    "pycharm": {
     "name": "#%%\n"
    }
   },
   "outputs": [
    {
     "name": "stdout",
     "output_type": "stream",
     "text": [
      "(1260, 1)\n",
      "(1260, 1)\n",
      "(1260, 1)\n"
     ]
    },
    {
     "name": "stderr",
     "output_type": "stream",
     "text": [
      "C:\\Users\\admin\\AppData\\Local\\Temp/ipykernel_19972/3257465401.py:4: SettingWithCopyWarning: \n",
      "A value is trying to be set on a copy of a slice from a DataFrame.\n",
      "Try using .loc[row_indexer,col_indexer] = value instead\n",
      "\n",
      "See the caveats in the documentation: https://pandas.pydata.org/pandas-docs/stable/user_guide/indexing.html#returning-a-view-versus-a-copy\n",
      "  price['close'] = scaler.fit_transform(price['close'].values.reshape(-1, 1))\n",
      "C:\\Users\\admin\\AppData\\Local\\Temp/ipykernel_19972/3257465401.py:6: SettingWithCopyWarning: \n",
      "A value is trying to be set on a copy of a slice from a DataFrame.\n",
      "Try using .loc[row_indexer,col_indexer] = value instead\n",
      "\n",
      "See the caveats in the documentation: https://pandas.pydata.org/pandas-docs/stable/user_guide/indexing.html#returning-a-view-versus-a-copy\n",
      "  upvotes['upvotes'] = scaler.fit_transform(upvotes['upvotes'].values.reshape(-1, 1))\n",
      "C:\\Users\\admin\\AppData\\Local\\Temp/ipykernel_19972/3257465401.py:9: SettingWithCopyWarning: \n",
      "A value is trying to be set on a copy of a slice from a DataFrame.\n",
      "Try using .loc[row_indexer,col_indexer] = value instead\n",
      "\n",
      "See the caveats in the documentation: https://pandas.pydata.org/pandas-docs/stable/user_guide/indexing.html#returning-a-view-versus-a-copy\n",
      "  volume['post volume'] = scaler.fit_transform(volume['post volume'].values.reshape(-1, 1))\n"
     ]
    }
   ],
   "source": [
    "scaler = MinMaxScaler(feature_range=(-1, 1))\n",
    "# this is ugly but it works\n",
    "price = prices[['close']]\n",
    "price['close'] = scaler.fit_transform(price['close'].values.reshape(-1, 1))\n",
    "upvotes = prices[['upvotes']]\n",
    "upvotes['upvotes'] = scaler.fit_transform(upvotes['upvotes'].values.reshape(-1, 1))\n",
    "upvotes = upvotes.fillna(0)\n",
    "volume = prices[['post volume']]\n",
    "volume['post volume'] = scaler.fit_transform(volume['post volume'].values.reshape(-1, 1))\n",
    "volume = volume.fillna(0)\n",
    "print(price.shape)\n",
    "print(upvotes.shape)\n",
    "print(volume.shape)"
   ]
  },
  {
   "cell_type": "code",
   "execution_count": 643,
   "outputs": [
    {
     "name": "stdout",
     "output_type": "stream",
     "text": [
      "(1260, 125)\n",
      "[ 8.60787809e-01  9.99999762e-01 -4.52528149e-02 -9.91454497e-02\n",
      "  6.15618944e-01  1.89995855e-01 -1.01474449e-01 -3.82151127e-01\n",
      " -1.00000000e+00 -4.49706376e-01  5.05694985e-01  2.34566882e-01\n",
      "  1.09123491e-01  5.56687534e-01  6.25730634e-01  1.67981386e-01\n",
      " -8.35292518e-01  2.65967786e-01  1.03776313e-01  2.41557032e-01\n",
      " -2.53775030e-01  4.82545719e-02 -3.71755153e-01 -3.86464953e-01\n",
      "  7.51884818e-01  4.08232331e-01  1.56154856e-05  6.50052190e-01\n",
      "  4.79399227e-03  1.29742548e-04 -4.42997605e-01 -4.78237092e-01\n",
      " -9.36860666e-02  5.82113624e-01 -6.20975733e-01  1.54321805e-01\n",
      " -2.92564213e-01  9.07510519e-02 -8.46413672e-02  4.03917164e-01\n",
      "  1.21865973e-01  3.08459193e-01  1.73912849e-02  2.61080533e-01\n",
      "  1.33561388e-01  3.26485902e-01 -3.04840028e-01  1.25943631e-01\n",
      "  6.11380935e-01 -8.68129805e-02  2.79566914e-01 -4.46677715e-01\n",
      " -7.02414513e-01 -3.17593277e-01  1.25644788e-01  5.34202278e-01\n",
      "  9.72363293e-01  1.45980626e-01  2.12652713e-01 -4.53015298e-01\n",
      " -3.29902738e-01  5.08981012e-02 -2.74716884e-01  2.45087743e-01\n",
      " -1.61128938e-01  9.22714621e-02 -9.06819627e-02 -1.60062179e-01\n",
      "  3.59571636e-01 -9.31274816e-02  2.10652649e-01 -2.85912126e-01\n",
      " -1.75669622e-02 -1.96798310e-01 -1.33551117e-02  5.86408079e-02\n",
      " -3.85387748e-01  5.23204245e-02 -1.30679220e-01  9.77741778e-01\n",
      "  4.93010208e-02 -6.75244570e-01 -5.67278415e-02  2.63236701e-01\n",
      " -1.58223271e-01 -7.68023074e-01  9.16146711e-02  3.61631244e-01\n",
      " -1.75557479e-01 -2.35697240e-01  2.64735490e-01 -4.07617122e-01\n",
      "  2.51017570e-01 -2.39056766e-01  4.24365252e-01  1.34405881e-01\n",
      "  5.17679513e-01 -2.14930736e-02 -3.64466794e-02  4.12014090e-02\n",
      " -2.43809596e-01 -2.61279434e-01  9.29064453e-02  3.53347003e-01\n",
      " -3.47211927e-01  1.06118657e-01  2.98492402e-01  2.38659933e-01\n",
      "  1.29708678e-01 -2.10490480e-01  3.10447574e-01 -4.88467664e-01\n",
      "  4.72734690e-01 -4.58095483e-02  1.70358315e-01  2.67999679e-01\n",
      "  2.17655584e-01 -3.24762881e-01 -4.89412725e-01  3.12951267e-01\n",
      "  6.64685428e-01  9.60692018e-02 -3.05417746e-01  4.77755427e-01\n",
      "  2.45336577e-01]\n"
     ]
    }
   ],
   "source": [
    "n = len(price)\n",
    "price_list = price['close'].tolist()\n",
    "docscaler = MinMaxScaler(feature_range=(-1, 1))\n",
    "\n",
    "docvecs = prices['docvec'].to_numpy()\n",
    "for i in range(n):\n",
    "    if not isinstance(docvecs[i], (list,pd.Series,np.ndarray)):\n",
    "        docvecs[i] = np.zeros(125)\n",
    "    else:\n",
    "        # this method of normalization likely loses some some data contained in doc embeddings since it is refit for\n",
    "        # every sample but I didn't have time to figure out a more thorough solution\n",
    "        docvecs[i] = docscaler.fit_transform(docvecs[i].reshape(-1, 1)).reshape(125,)\n",
    "\n",
    "# docvecs = docvecs.reshape(1260, 300)\n",
    "docvecs = docvecs.tolist()\n",
    "docvecs = np.array(docvecs)\n",
    "print(docvecs.shape)\n",
    "print(docvecs[0])\n",
    "# print(docvecs[1])\n",
    "\n"
   ],
   "metadata": {
    "collapsed": false,
    "pycharm": {
     "name": "#%%\n"
    }
   }
  },
  {
   "cell_type": "code",
   "execution_count": 644,
   "outputs": [
    {
     "name": "stdout",
     "output_type": "stream",
     "text": [
      "(1260, 128)\n",
      "[-9.56768019e-01 -9.96803675e-01 -9.91735537e-01  8.60787809e-01\n",
      "  9.99999762e-01 -4.52528149e-02 -9.91454497e-02  6.15618944e-01\n",
      "  1.89995855e-01 -1.01474449e-01 -3.82151127e-01 -1.00000000e+00\n",
      " -4.49706376e-01  5.05694985e-01  2.34566882e-01  1.09123491e-01\n",
      "  5.56687534e-01  6.25730634e-01  1.67981386e-01 -8.35292518e-01\n",
      "  2.65967786e-01  1.03776313e-01  2.41557032e-01 -2.53775030e-01\n",
      "  4.82545719e-02 -3.71755153e-01 -3.86464953e-01  7.51884818e-01\n",
      "  4.08232331e-01  1.56154856e-05  6.50052190e-01  4.79399227e-03\n",
      "  1.29742548e-04 -4.42997605e-01 -4.78237092e-01 -9.36860666e-02\n",
      "  5.82113624e-01 -6.20975733e-01  1.54321805e-01 -2.92564213e-01\n",
      "  9.07510519e-02 -8.46413672e-02  4.03917164e-01  1.21865973e-01\n",
      "  3.08459193e-01  1.73912849e-02  2.61080533e-01  1.33561388e-01\n",
      "  3.26485902e-01 -3.04840028e-01  1.25943631e-01  6.11380935e-01\n",
      " -8.68129805e-02  2.79566914e-01 -4.46677715e-01 -7.02414513e-01\n",
      " -3.17593277e-01  1.25644788e-01  5.34202278e-01  9.72363293e-01\n",
      "  1.45980626e-01  2.12652713e-01 -4.53015298e-01 -3.29902738e-01\n",
      "  5.08981012e-02 -2.74716884e-01  2.45087743e-01 -1.61128938e-01\n",
      "  9.22714621e-02 -9.06819627e-02 -1.60062179e-01  3.59571636e-01\n",
      " -9.31274816e-02  2.10652649e-01 -2.85912126e-01 -1.75669622e-02\n",
      " -1.96798310e-01 -1.33551117e-02  5.86408079e-02 -3.85387748e-01\n",
      "  5.23204245e-02 -1.30679220e-01  9.77741778e-01  4.93010208e-02\n",
      " -6.75244570e-01 -5.67278415e-02  2.63236701e-01 -1.58223271e-01\n",
      " -7.68023074e-01  9.16146711e-02  3.61631244e-01 -1.75557479e-01\n",
      " -2.35697240e-01  2.64735490e-01 -4.07617122e-01  2.51017570e-01\n",
      " -2.39056766e-01  4.24365252e-01  1.34405881e-01  5.17679513e-01\n",
      " -2.14930736e-02 -3.64466794e-02  4.12014090e-02 -2.43809596e-01\n",
      " -2.61279434e-01  9.29064453e-02  3.53347003e-01 -3.47211927e-01\n",
      "  1.06118657e-01  2.98492402e-01  2.38659933e-01  1.29708678e-01\n",
      " -2.10490480e-01  3.10447574e-01 -4.88467664e-01  4.72734690e-01\n",
      " -4.58095483e-02  1.70358315e-01  2.67999679e-01  2.17655584e-01\n",
      " -3.24762881e-01 -4.89412725e-01  3.12951267e-01  6.64685428e-01\n",
      "  9.60692018e-02 -3.05417746e-01  4.77755427e-01  2.45336577e-01]\n"
     ]
    }
   ],
   "source": [
    "data = np.concatenate((price, upvotes, volume, docvecs), axis=1)\n",
    "print(data.shape)\n",
    "print(data[0])\n"
   ],
   "metadata": {
    "collapsed": false,
    "pycharm": {
     "name": "#%%\n"
    }
   }
  },
  {
   "cell_type": "markdown",
   "metadata": {
    "collapsed": false
   },
   "source": [
    "Slice data and construct training/test sets <br>\n",
    "We use the past 19 data points to predict the 20th <br>\n",
    "Changing lookback length has significant effects on model accuracy, and could likely be optimized further\n"
   ]
  },
  {
   "cell_type": "code",
   "execution_count": 645,
   "metadata": {
    "collapsed": false,
    "pycharm": {
     "name": "#%%\n"
    }
   },
   "outputs": [
    {
     "name": "stdout",
     "output_type": "stream",
     "text": [
      "y_train.shape =  torch.Size([992, 1])\n",
      "y_test.shape =  torch.Size([248, 1])\n"
     ]
    }
   ],
   "source": [
    "lookback = 20  # lookback sequence length\n",
    "\n",
    "def split_data(stock_data, lookback):\n",
    "    data_raw = np.array(stock_data)  # convert to numpy array\n",
    "    data = []\n",
    "\n",
    "    # create all possible sequences of length seq_len\n",
    "    for index in range(len(data_raw) - lookback):\n",
    "        data.append(data_raw[index: index + lookback])\n",
    "\n",
    "    data = np.array(data)\n",
    "    test_set_size = int(np.round(0.2 * data.shape[0]))\n",
    "    train_set_size = data.shape[0] - (test_set_size)\n",
    "\n",
    "    x_train = data[:train_set_size, :-1, :]\n",
    "    y_train = data[:train_set_size, -1, :1]\n",
    "\n",
    "    x_test = data[train_set_size:, :-1]\n",
    "    y_test = data[train_set_size:, -1, :1]\n",
    "\n",
    "    return [x_train, y_train, x_test, y_test]\n",
    "\n",
    "x_train, y_train, x_test, y_test = split_data(data, lookback)\n",
    "\n",
    "x_train = torch.from_numpy(x_train).type(torch.Tensor)\n",
    "# we have to remove the last value from x_test since we have no data for the following day\n",
    "x_test = torch.from_numpy(x_test[:-1]).type(torch.Tensor)\n",
    "y_train_lstm = torch.from_numpy(y_train).type(torch.Tensor)\n",
    "y_test_lstm = torch.from_numpy(y_test).type(torch.Tensor)\n",
    "\n",
    "print('y_train.shape = ',y_train_lstm.shape)\n",
    "print('y_test.shape = ',y_test_lstm.shape)\n",
    "\n",
    "# y_train_gru = torch.from_numpy(y_train).type(torch.Tensor)\n",
    "# y_test_gru = torch.from_numpy(y_test).type(torch.Tensor)"
   ]
  },
  {
   "cell_type": "markdown",
   "source": [
    "Create categorical y-vectors where y=0 if stock price went down on the following day, and y=1 if it went up"
   ],
   "metadata": {
    "collapsed": false,
    "pycharm": {
     "name": "#%% md\n"
    }
   }
  },
  {
   "cell_type": "code",
   "execution_count": 646,
   "outputs": [
    {
     "name": "stdout",
     "output_type": "stream",
     "text": [
      "x_train.shape =  torch.Size([992, 19, 128])\n",
      "y_train_categorical.shape =  torch.Size([992, 1])\n",
      "x_test.shape =  torch.Size([247, 19, 128])\n",
      "y_test_categorical.shape =  torch.Size([247, 1])\n"
     ]
    }
   ],
   "source": [
    "y_train_categorical = np.array([int(y_train[i+1] > y_train[i]) for i in range(len(y_train_lstm) - 1)])\n",
    "y_train_categorical = np.append(y_train_categorical, int(y_test[0] > y_train[-1]))\n",
    "\n",
    "y_test_categorical = np.array([int(y_test[i+1] > y_test[i]) for i in range(len(y_test) - 1)])\n",
    "\n",
    "y_train_categorical = torch.from_numpy(y_train_categorical).type(torch.Tensor).unsqueeze(-1)\n",
    "y_test_categorical = torch.from_numpy(y_test_categorical).type(torch.Tensor).unsqueeze(-1)\n",
    "\n",
    "print('x_train.shape = ',x_train.shape)\n",
    "print('y_train_categorical.shape = ',y_train_categorical.shape)\n",
    "print('x_test.shape = ',x_test.shape)\n",
    "print('y_test_categorical.shape = ',y_test_categorical.shape)"
   ],
   "metadata": {
    "collapsed": false,
    "pycharm": {
     "name": "#%%\n"
    }
   }
  },
  {
   "cell_type": "markdown",
   "metadata": {
    "collapsed": false
   },
   "source": [
    "Define model architecture and hyperparameters <br>\n",
    "Note: with more time I would have experimented by adding more layers to the model <br>\n",
    "I'd like to try something like 128->256->128->64->32->1"
   ]
  },
  {
   "cell_type": "code",
   "execution_count": 647,
   "metadata": {
    "collapsed": false,
    "pycharm": {
     "name": "#%%\n"
    }
   },
   "outputs": [],
   "source": [
    "class LSTM(nn.Module):\n",
    "    def __init__(self, input_dim, hidden_dim, num_layers, output_dim):\n",
    "        super(LSTM, self).__init__()\n",
    "        self.hidden_dim = hidden_dim\n",
    "        self.num_layers = num_layers\n",
    "\n",
    "        self.lstm = nn.LSTM(input_dim, hidden_dim, num_layers, batch_first=True)\n",
    "        self.fc = nn.Linear(hidden_dim, output_dim)\n",
    "\n",
    "    def forward(self, x):\n",
    "        h0 = torch.zeros(self.num_layers, x.size(0), self.hidden_dim).requires_grad_()\n",
    "        c0 = torch.zeros(self.num_layers, x.size(0), self.hidden_dim).requires_grad_()\n",
    "        out, (hn, cn) = self.lstm(x, (h0.detach(), c0.detach()))\n",
    "        out = self.fc(out[:, -1, :])\n",
    "        out = torch.sigmoid(out)\n",
    "        return out"
   ]
  },
  {
   "cell_type": "code",
   "execution_count": 648,
   "metadata": {
    "collapsed": false,
    "pycharm": {
     "name": "#%%\n"
    }
   },
   "outputs": [],
   "source": [
    "input_dim = 128\n",
    "hidden_dim = 64\n",
    "num_layers = 2\n",
    "output_dim = 1\n",
    "num_epochs = 125\n",
    "\n",
    "model = LSTM(input_dim=input_dim, hidden_dim=hidden_dim, output_dim=output_dim, num_layers=num_layers)\n",
    "# criterion = torch.nn.MSELoss(reduction='mean')\n",
    "criterion = nn.BCELoss()\n",
    "optimiser = torch.optim.Adam(model.parameters(), lr=0.001)"
   ]
  },
  {
   "cell_type": "markdown",
   "metadata": {
    "collapsed": false
   },
   "source": [
    "Train model over 100 epochs <br>\n",
    "note: currently model trains on data from a single stock, but given more time it might be worth trying to train one\n",
    "model for all the stocks we have data for."
   ]
  },
  {
   "cell_type": "code",
   "execution_count": 649,
   "metadata": {
    "collapsed": false,
    "pycharm": {
     "name": "#%%\n"
    }
   },
   "outputs": [
    {
     "name": "stdout",
     "output_type": "stream",
     "text": [
      "Epoch  0 BCE:  0.6924765706062317\n",
      "Epoch  1 BCE:  0.6920216083526611\n",
      "Epoch  2 BCE:  0.6916255354881287\n",
      "Epoch  3 BCE:  0.6912103891372681\n",
      "Epoch  4 BCE:  0.6907267570495605\n",
      "Epoch  5 BCE:  0.6901557445526123\n",
      "Epoch  6 BCE:  0.689491331577301\n",
      "Epoch  7 BCE:  0.6887220740318298\n",
      "Epoch  8 BCE:  0.68782639503479\n",
      "Epoch  9 BCE:  0.6867730021476746\n",
      "Epoch  10 BCE:  0.6855318546295166\n",
      "Epoch  11 BCE:  0.6840888261795044\n",
      "Epoch  12 BCE:  0.6824566125869751\n",
      "Epoch  13 BCE:  0.6806633472442627\n",
      "Epoch  14 BCE:  0.6787139773368835\n",
      "Epoch  15 BCE:  0.6766062378883362\n",
      "Epoch  16 BCE:  0.6743494272232056\n",
      "Epoch  17 BCE:  0.671795129776001\n",
      "Epoch  18 BCE:  0.6688631176948547\n",
      "Epoch  19 BCE:  0.6656932830810547\n",
      "Epoch  20 BCE:  0.6626235842704773\n",
      "Epoch  21 BCE:  0.660101056098938\n",
      "Epoch  22 BCE:  0.6580561995506287\n",
      "Epoch  23 BCE:  0.6557093262672424\n",
      "Epoch  24 BCE:  0.6525717377662659\n",
      "Epoch  25 BCE:  0.6488564610481262\n",
      "Epoch  26 BCE:  0.6450098156929016\n",
      "Epoch  27 BCE:  0.6414260864257812\n",
      "Epoch  28 BCE:  0.638277530670166\n",
      "Epoch  29 BCE:  0.6354321837425232\n",
      "Epoch  30 BCE:  0.63253253698349\n",
      "Epoch  31 BCE:  0.6294841170310974\n",
      "Epoch  32 BCE:  0.6268507242202759\n",
      "Epoch  33 BCE:  0.6244882345199585\n",
      "Epoch  34 BCE:  0.6204789876937866\n",
      "Epoch  35 BCE:  0.6171315908432007\n",
      "Epoch  36 BCE:  0.6140276193618774\n",
      "Epoch  37 BCE:  0.6097854375839233\n",
      "Epoch  38 BCE:  0.6071751713752747\n",
      "Epoch  39 BCE:  0.6044573783874512\n",
      "Epoch  40 BCE:  0.600946843624115\n",
      "Epoch  41 BCE:  0.5986722111701965\n",
      "Epoch  42 BCE:  0.5954903364181519\n",
      "Epoch  43 BCE:  0.5921277403831482\n",
      "Epoch  44 BCE:  0.5896409153938293\n",
      "Epoch  45 BCE:  0.5861948132514954\n",
      "Epoch  46 BCE:  0.5826470255851746\n",
      "Epoch  47 BCE:  0.5799522399902344\n",
      "Epoch  48 BCE:  0.5773832201957703\n",
      "Epoch  49 BCE:  0.5739688873291016\n",
      "Epoch  50 BCE:  0.5698541402816772\n",
      "Epoch  51 BCE:  0.566303014755249\n",
      "Epoch  52 BCE:  0.5635268688201904\n",
      "Epoch  53 BCE:  0.560539960861206\n",
      "Epoch  54 BCE:  0.5566413998603821\n",
      "Epoch  55 BCE:  0.5527831315994263\n",
      "Epoch  56 BCE:  0.5497214794158936\n",
      "Epoch  57 BCE:  0.5470109581947327\n",
      "Epoch  58 BCE:  0.5439850687980652\n",
      "Epoch  59 BCE:  0.5400307178497314\n",
      "Epoch  60 BCE:  0.5357303023338318\n",
      "Epoch  61 BCE:  0.5320016145706177\n",
      "Epoch  62 BCE:  0.5289140939712524\n",
      "Epoch  63 BCE:  0.5262905359268188\n",
      "Epoch  64 BCE:  0.5237774848937988\n",
      "Epoch  65 BCE:  0.5200068354606628\n",
      "Epoch  66 BCE:  0.5142586827278137\n",
      "Epoch  67 BCE:  0.5099890232086182\n",
      "Epoch  68 BCE:  0.5078500509262085\n",
      "Epoch  69 BCE:  0.5046862959861755\n",
      "Epoch  70 BCE:  0.4993097484111786\n",
      "Epoch  71 BCE:  0.4942120909690857\n",
      "Epoch  72 BCE:  0.49108293652534485\n",
      "Epoch  73 BCE:  0.4884771704673767\n",
      "Epoch  74 BCE:  0.48423460125923157\n",
      "Epoch  75 BCE:  0.47826844453811646\n",
      "Epoch  76 BCE:  0.47290149331092834\n",
      "Epoch  77 BCE:  0.469341903924942\n",
      "Epoch  78 BCE:  0.46618005633354187\n",
      "Epoch  79 BCE:  0.46159589290618896\n",
      "Epoch  80 BCE:  0.45522135496139526\n",
      "Epoch  81 BCE:  0.44886520504951477\n",
      "Epoch  82 BCE:  0.44413408637046814\n",
      "Epoch  83 BCE:  0.44018638134002686\n",
      "Epoch  84 BCE:  0.43546509742736816\n",
      "Epoch  85 BCE:  0.42908814549446106\n",
      "Epoch  86 BCE:  0.4217339754104614\n",
      "Epoch  87 BCE:  0.41518762707710266\n",
      "Epoch  88 BCE:  0.40986886620521545\n",
      "Epoch  89 BCE:  0.4051002264022827\n",
      "Epoch  90 BCE:  0.40018704533576965\n",
      "Epoch  91 BCE:  0.39382633566856384\n",
      "Epoch  92 BCE:  0.385116845369339\n",
      "Epoch  93 BCE:  0.37642374634742737\n",
      "Epoch  94 BCE:  0.3702808916568756\n",
      "Epoch  95 BCE:  0.3656959533691406\n",
      "Epoch  96 BCE:  0.36051705479621887\n",
      "Epoch  97 BCE:  0.3525659143924713\n",
      "Epoch  98 BCE:  0.34209468960762024\n",
      "Epoch  99 BCE:  0.3339027762413025\n",
      "Epoch  100 BCE:  0.328986257314682\n",
      "Epoch  101 BCE:  0.3235875368118286\n",
      "Epoch  102 BCE:  0.31490227580070496\n",
      "Epoch  103 BCE:  0.3041413426399231\n",
      "Epoch  104 BCE:  0.29578620195388794\n",
      "Epoch  105 BCE:  0.29014909267425537\n",
      "Epoch  106 BCE:  0.28359171748161316\n",
      "Epoch  107 BCE:  0.27410688996315\n",
      "Epoch  108 BCE:  0.2634304463863373\n",
      "Epoch  109 BCE:  0.25474298000335693\n",
      "Epoch  110 BCE:  0.24819119274616241\n",
      "Epoch  111 BCE:  0.24154676496982574\n",
      "Epoch  112 BCE:  0.23305507004261017\n",
      "Epoch  113 BCE:  0.2225441187620163\n",
      "Epoch  114 BCE:  0.21203415095806122\n",
      "Epoch  115 BCE:  0.2037913054227829\n",
      "Epoch  116 BCE:  0.19729609787464142\n",
      "Epoch  117 BCE:  0.19110672175884247\n",
      "Epoch  118 BCE:  0.18466657400131226\n",
      "Epoch  119 BCE:  0.1746388077735901\n",
      "Epoch  120 BCE:  0.16328032314777374\n",
      "Epoch  121 BCE:  0.15413299202919006\n",
      "Epoch  122 BCE:  0.148687481880188\n",
      "Epoch  123 BCE:  0.14345408976078033\n",
      "Epoch  124 BCE:  0.1351643055677414\n",
      "Training time: 29.542499542236328\n"
     ]
    }
   ],
   "source": [
    "hist = np.zeros(num_epochs)\n",
    "start_time = time.time()\n",
    "lstm = []\n",
    "for t in range(num_epochs):\n",
    "    y_train_pred = model(x_train)\n",
    "    loss = criterion(y_train_pred, y_train_categorical)\n",
    "    print(\"Epoch \", t, \"BCE: \", loss.item())\n",
    "    hist[t] = loss.item()\n",
    "    optimiser.zero_grad()\n",
    "    loss.backward()\n",
    "    optimiser.step()\n",
    "\n",
    "training_time = time.time() - start_time\n",
    "print(\"Training time: {}\".format(training_time))"
   ]
  },
  {
   "cell_type": "markdown",
   "metadata": {
    "collapsed": false
   },
   "source": [
    "Evaluate training and test accuracy"
   ]
  },
  {
   "cell_type": "code",
   "execution_count": 650,
   "metadata": {
    "collapsed": false,
    "pycharm": {
     "name": "#%%\n"
    }
   },
   "outputs": [
    {
     "name": "stdout",
     "output_type": "stream",
     "text": [
      "Test BCE:  1.4234107732772827\n",
      "training accuracy: 0.98\n",
      "testing accuracy: 0.53\n"
     ]
    }
   ],
   "source": [
    "y_train_pred = model(x_train)\n",
    "y_test_pred = model(x_test)\n",
    "\n",
    "test_loss = criterion(y_test_pred, y_test_categorical)\n",
    "print(\"Test BCE: \", test_loss.item())\n",
    "\n",
    "y_train_pred = torch.round(y_train_pred).detach().numpy()\n",
    "y_test_pred = torch.round(y_test_pred).detach().numpy()\n",
    "\n",
    "print(\"training accuracy: %.2f\" % (np.mean(y_train_pred == y_train_categorical.numpy())))\n",
    "print(\"testing accuracy: %.2f\" % (np.mean(y_test_pred == y_test_categorical.numpy())))"
   ]
  },
  {
   "cell_type": "markdown",
   "source": [
    "Confusion matrix for train data"
   ],
   "metadata": {
    "collapsed": false
   }
  },
  {
   "cell_type": "code",
   "execution_count": 651,
   "outputs": [
    {
     "data": {
      "text/plain": "<sklearn.metrics._plot.confusion_matrix.ConfusionMatrixDisplay at 0x29ede2a31c0>"
     },
     "execution_count": 651,
     "metadata": {},
     "output_type": "execute_result"
    },
    {
     "data": {
      "text/plain": "<Figure size 432x288 with 2 Axes>",
      "image/png": "[encoded data removed]"
     },
     "metadata": {
      "needs_background": "light"
     },
     "output_type": "display_data"
    }
   ],
   "source": [
    "ConfusionMatrixDisplay.from_predictions(y_train_categorical, y_train_pred)"
   ],
   "metadata": {
    "collapsed": false,
    "pycharm": {
     "name": "#%%\n"
    }
   }
  },
  {
   "cell_type": "markdown",
   "source": [
    "Confusion matrix for test data"
   ],
   "metadata": {
    "collapsed": false
   }
  },
  {
   "cell_type": "code",
   "execution_count": 652,
   "outputs": [
    {
     "data": {
      "text/plain": "<sklearn.metrics._plot.confusion_matrix.ConfusionMatrixDisplay at 0x29edf99a140>"
     },
     "execution_count": 652,
     "metadata": {},
     "output_type": "execute_result"
    },
    {
     "data": {
      "text/plain": "<Figure size 432x288 with 2 Axes>",
      "image/png": "[encoded data removed]"
     },
     "metadata": {
      "needs_background": "light"
     },
     "output_type": "display_data"
    }
   ],
   "source": [
    "ConfusionMatrixDisplay.from_predictions(y_test_categorical, y_test_pred)"
   ],
   "metadata": {
    "collapsed": false,
    "pycharm": {
     "name": "#%%\n"
    }
   }
  },
  {
   "cell_type": "markdown",
   "source": [
    "Optionally, save model for future use/testing"
   ],
   "metadata": {
    "collapsed": false
   }
  },
  {
   "cell_type": "code",
   "execution_count": 653,
   "outputs": [],
   "source": [
    "pickle.dump(model, open(f'{ticker}_RNN.p', \"wb\"))"
   ],
   "metadata": {
    "collapsed": false,
    "pycharm": {
     "name": "#%%\n"
    }
   }
  }
 ],
 "metadata": {
  "kernelspec": {
   "display_name": "Python 3",
   "language": "python",
   "name": "python3"
  },
  "language_info": {
   "codemirror_mode": {
    "name": "ipython",
    "version": 3
   },
   "file_extension": ".py",
   "mimetype": "text/x-python",
   "name": "python",
   "nbconvert_exporter": "python",
   "pygments_lexer": "ipython3",
   "version": "3.9.12"
  }
 },
 "nbformat": 4,
 "nbformat_minor": 0
}